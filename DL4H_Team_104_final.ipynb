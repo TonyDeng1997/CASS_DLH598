{
 "cells": [
  {
   "cell_type": "markdown",
   "metadata": {
    "id": "dlv6knX04FiY"
   },
   "source": [
    "# Link to Original Git Repository\n",
    "https://github.com/pranavsinghps1/CASS"
   ]
  },
  {
   "cell_type": "markdown",
   "metadata": {},
   "source": [
    " "
   ]
  },
  {
   "cell_type": "markdown",
   "metadata": {},
   "source": [
    "# Link to Our Git Repository \n",
    "https://github.com/TonyDeng1997/CASS_UIUC598DLH\n",
    "\n",
    "It contains the checkpoints to be used with our model as well as all the required dependencies"
   ]
  },
  {
   "cell_type": "markdown",
   "metadata": {
    "id": "CPrIEzfXdsZJ"
   },
   "source": [
    "# Environment setup"
   ]
  },
  {
   "cell_type": "code",
   "execution_count": 1,
   "metadata": {
    "id": "1DOgSQ6zdzDG"
   },
   "outputs": [
    {
     "name": "stdout",
     "output_type": "stream",
     "text": [
      "Requirement already satisfied: einops==0.4.1 in /opt/conda/lib/python3.10/site-packages (from -r requirements.txt (line 1)) (0.4.1)\n",
      "Requirement already satisfied: matplotlib==3.5.2 in /opt/conda/lib/python3.10/site-packages (from -r requirements.txt (line 2)) (3.5.2)\n",
      "Requirement already satisfied: matplotlib-inline==0.1.2 in /opt/conda/lib/python3.10/site-packages (from -r requirements.txt (line 3)) (0.1.2)\n",
      "Requirement already satisfied: numpy==1.23.1 in /opt/conda/lib/python3.10/site-packages (from -r requirements.txt (line 4)) (1.23.1)\n",
      "Requirement already satisfied: pandas==1.4.3 in /opt/conda/lib/python3.10/site-packages (from -r requirements.txt (line 5)) (1.4.3)\n",
      "Requirement already satisfied: Pillow==9.2.0 in /opt/conda/lib/python3.10/site-packages (from -r requirements.txt (line 6)) (9.2.0)\n",
      "Requirement already satisfied: scikit-learn==1.1.1 in /opt/conda/lib/python3.10/site-packages (from -r requirements.txt (line 7)) (1.1.1)\n",
      "Requirement already satisfied: scipy==1.8.1 in /opt/conda/lib/python3.10/site-packages (from -r requirements.txt (line 8)) (1.8.1)\n",
      "Requirement already satisfied: tensorboard==2.9.1 in /opt/conda/lib/python3.10/site-packages (from -r requirements.txt (line 9)) (2.9.1)\n",
      "Requirement already satisfied: timm==0.5.4 in /opt/conda/lib/python3.10/site-packages (from -r requirements.txt (line 10)) (0.5.4)\n",
      "Requirement already satisfied: torch==1.11.0 in /opt/conda/lib/python3.10/site-packages (from -r requirements.txt (line 11)) (1.11.0)\n",
      "Requirement already satisfied: torchaudio==0.11.0 in /opt/conda/lib/python3.10/site-packages (from -r requirements.txt (line 12)) (0.11.0)\n",
      "Requirement already satisfied: torchcontrib==0.0.2 in /opt/conda/lib/python3.10/site-packages (from -r requirements.txt (line 13)) (0.0.2)\n",
      "Requirement already satisfied: torchmetrics==0.9.2 in /opt/conda/lib/python3.10/site-packages (from -r requirements.txt (line 14)) (0.9.2)\n",
      "Requirement already satisfied: torchvision==0.12.0 in /opt/conda/lib/python3.10/site-packages (from -r requirements.txt (line 15)) (0.12.0)\n",
      "Requirement already satisfied: vit-pytorch==0.35.8 in /opt/conda/lib/python3.10/site-packages (from -r requirements.txt (line 16)) (0.35.8)\n",
      "Requirement already satisfied: pytorch-lightning==1.6.5 in /opt/conda/lib/python3.10/site-packages (from -r requirements.txt (line 17)) (1.6.5)\n",
      "Requirement already satisfied: tqdm==4.64.0 in /opt/conda/lib/python3.10/site-packages (from -r requirements.txt (line 18)) (4.64.0)\n",
      "Requirement already satisfied: torchtext==0.12.0 in /opt/conda/lib/python3.10/site-packages (from -r requirements.txt (line 22)) (0.12.0)\n",
      "Requirement already satisfied: cycler>=0.10 in /opt/conda/lib/python3.10/site-packages (from matplotlib==3.5.2->-r requirements.txt (line 2)) (0.12.1)\n",
      "Requirement already satisfied: fonttools>=4.22.0 in /opt/conda/lib/python3.10/site-packages (from matplotlib==3.5.2->-r requirements.txt (line 2)) (4.47.2)\n",
      "Requirement already satisfied: kiwisolver>=1.0.1 in /opt/conda/lib/python3.10/site-packages (from matplotlib==3.5.2->-r requirements.txt (line 2)) (1.4.5)\n",
      "Requirement already satisfied: packaging>=20.0 in /opt/conda/lib/python3.10/site-packages (from matplotlib==3.5.2->-r requirements.txt (line 2)) (23.2)\n",
      "Requirement already satisfied: pyparsing>=2.2.1 in /opt/conda/lib/python3.10/site-packages (from matplotlib==3.5.2->-r requirements.txt (line 2)) (3.1.1)\n",
      "Requirement already satisfied: python-dateutil>=2.7 in /opt/conda/lib/python3.10/site-packages (from matplotlib==3.5.2->-r requirements.txt (line 2)) (2.8.2)\n",
      "Requirement already satisfied: traitlets in /opt/conda/lib/python3.10/site-packages (from matplotlib-inline==0.1.2->-r requirements.txt (line 3)) (5.9.0)\n",
      "Requirement already satisfied: pytz>=2020.1 in /opt/conda/lib/python3.10/site-packages (from pandas==1.4.3->-r requirements.txt (line 5)) (2023.4)\n",
      "Requirement already satisfied: joblib>=1.0.0 in /opt/conda/lib/python3.10/site-packages (from scikit-learn==1.1.1->-r requirements.txt (line 7)) (1.3.2)\n",
      "Requirement already satisfied: threadpoolctl>=2.0.0 in /opt/conda/lib/python3.10/site-packages (from scikit-learn==1.1.1->-r requirements.txt (line 7)) (3.2.0)\n",
      "Requirement already satisfied: absl-py>=0.4 in /opt/conda/lib/python3.10/site-packages (from tensorboard==2.9.1->-r requirements.txt (line 9)) (2.1.0)\n",
      "Requirement already satisfied: grpcio>=1.24.3 in /opt/conda/lib/python3.10/site-packages (from tensorboard==2.9.1->-r requirements.txt (line 9)) (1.60.0)\n",
      "Requirement already satisfied: google-auth<3,>=1.6.3 in /opt/conda/lib/python3.10/site-packages (from tensorboard==2.9.1->-r requirements.txt (line 9)) (2.27.0)\n",
      "Requirement already satisfied: google-auth-oauthlib<0.5,>=0.4.1 in /opt/conda/lib/python3.10/site-packages (from tensorboard==2.9.1->-r requirements.txt (line 9)) (0.4.6)\n",
      "Requirement already satisfied: markdown>=2.6.8 in /opt/conda/lib/python3.10/site-packages (from tensorboard==2.9.1->-r requirements.txt (line 9)) (3.6)\n",
      "Requirement already satisfied: protobuf<3.20,>=3.9.2 in /opt/conda/lib/python3.10/site-packages (from tensorboard==2.9.1->-r requirements.txt (line 9)) (3.19.6)\n",
      "Requirement already satisfied: requests<3,>=2.21.0 in /opt/conda/lib/python3.10/site-packages (from tensorboard==2.9.1->-r requirements.txt (line 9)) (2.31.0)\n",
      "Requirement already satisfied: setuptools>=41.0.0 in /opt/conda/lib/python3.10/site-packages (from tensorboard==2.9.1->-r requirements.txt (line 9)) (69.0.3)\n",
      "Requirement already satisfied: tensorboard-data-server<0.7.0,>=0.6.0 in /opt/conda/lib/python3.10/site-packages (from tensorboard==2.9.1->-r requirements.txt (line 9)) (0.6.1)\n",
      "Requirement already satisfied: tensorboard-plugin-wit>=1.6.0 in /opt/conda/lib/python3.10/site-packages (from tensorboard==2.9.1->-r requirements.txt (line 9)) (1.8.1)\n",
      "Requirement already satisfied: werkzeug>=1.0.1 in /opt/conda/lib/python3.10/site-packages (from tensorboard==2.9.1->-r requirements.txt (line 9)) (3.0.2)\n",
      "Requirement already satisfied: wheel>=0.26 in /opt/conda/lib/python3.10/site-packages (from tensorboard==2.9.1->-r requirements.txt (line 9)) (0.42.0)\n",
      "Requirement already satisfied: typing-extensions in /opt/conda/lib/python3.10/site-packages (from torch==1.11.0->-r requirements.txt (line 11)) (4.9.0)\n",
      "Requirement already satisfied: PyYAML>=5.4 in /opt/conda/lib/python3.10/site-packages (from pytorch-lightning==1.6.5->-r requirements.txt (line 17)) (6.0.1)\n",
      "Requirement already satisfied: fsspec!=2021.06.0,>=2021.05.0 in /opt/conda/lib/python3.10/site-packages (from fsspec[http]!=2021.06.0,>=2021.05.0->pytorch-lightning==1.6.5->-r requirements.txt (line 17)) (2023.12.2)\n",
      "Requirement already satisfied: pyDeprecate>=0.3.1 in /opt/conda/lib/python3.10/site-packages (from pytorch-lightning==1.6.5->-r requirements.txt (line 17)) (0.3.2)\n",
      "Requirement already satisfied: aiohttp!=4.0.0a0,!=4.0.0a1 in /opt/conda/lib/python3.10/site-packages (from fsspec[http]!=2021.06.0,>=2021.05.0->pytorch-lightning==1.6.5->-r requirements.txt (line 17)) (3.9.2)\n",
      "Requirement already satisfied: cachetools<6.0,>=2.0.0 in /opt/conda/lib/python3.10/site-packages (from google-auth<3,>=1.6.3->tensorboard==2.9.1->-r requirements.txt (line 9)) (5.3.2)\n",
      "Requirement already satisfied: pyasn1-modules>=0.2.1 in /opt/conda/lib/python3.10/site-packages (from google-auth<3,>=1.6.3->tensorboard==2.9.1->-r requirements.txt (line 9)) (0.3.0)\n",
      "Requirement already satisfied: rsa<5,>=3.1.4 in /opt/conda/lib/python3.10/site-packages (from google-auth<3,>=1.6.3->tensorboard==2.9.1->-r requirements.txt (line 9)) (4.9)\n",
      "Requirement already satisfied: requests-oauthlib>=0.7.0 in /opt/conda/lib/python3.10/site-packages (from google-auth-oauthlib<0.5,>=0.4.1->tensorboard==2.9.1->-r requirements.txt (line 9)) (1.3.1)\n",
      "Requirement already satisfied: six>=1.5 in /opt/conda/lib/python3.10/site-packages (from python-dateutil>=2.7->matplotlib==3.5.2->-r requirements.txt (line 2)) (1.16.0)\n",
      "Requirement already satisfied: charset-normalizer<4,>=2 in /opt/conda/lib/python3.10/site-packages (from requests<3,>=2.21.0->tensorboard==2.9.1->-r requirements.txt (line 9)) (3.3.2)\n",
      "Requirement already satisfied: idna<4,>=2.5 in /opt/conda/lib/python3.10/site-packages (from requests<3,>=2.21.0->tensorboard==2.9.1->-r requirements.txt (line 9)) (3.6)\n",
      "Requirement already satisfied: urllib3<3,>=1.21.1 in /opt/conda/lib/python3.10/site-packages (from requests<3,>=2.21.0->tensorboard==2.9.1->-r requirements.txt (line 9)) (1.26.18)\n",
      "Requirement already satisfied: certifi>=2017.4.17 in /opt/conda/lib/python3.10/site-packages (from requests<3,>=2.21.0->tensorboard==2.9.1->-r requirements.txt (line 9)) (2023.11.17)\n"
     ]
    },
    {
     "name": "stdout",
     "output_type": "stream",
     "text": [
      "Requirement already satisfied: MarkupSafe>=2.1.1 in /opt/conda/lib/python3.10/site-packages (from werkzeug>=1.0.1->tensorboard==2.9.1->-r requirements.txt (line 9)) (2.1.4)\n",
      "Requirement already satisfied: aiosignal>=1.1.2 in /opt/conda/lib/python3.10/site-packages (from aiohttp!=4.0.0a0,!=4.0.0a1->fsspec[http]!=2021.06.0,>=2021.05.0->pytorch-lightning==1.6.5->-r requirements.txt (line 17)) (1.3.1)\n",
      "Requirement already satisfied: attrs>=17.3.0 in /opt/conda/lib/python3.10/site-packages (from aiohttp!=4.0.0a0,!=4.0.0a1->fsspec[http]!=2021.06.0,>=2021.05.0->pytorch-lightning==1.6.5->-r requirements.txt (line 17)) (23.2.0)\n",
      "Requirement already satisfied: frozenlist>=1.1.1 in /opt/conda/lib/python3.10/site-packages (from aiohttp!=4.0.0a0,!=4.0.0a1->fsspec[http]!=2021.06.0,>=2021.05.0->pytorch-lightning==1.6.5->-r requirements.txt (line 17)) (1.4.1)\n",
      "Requirement already satisfied: multidict<7.0,>=4.5 in /opt/conda/lib/python3.10/site-packages (from aiohttp!=4.0.0a0,!=4.0.0a1->fsspec[http]!=2021.06.0,>=2021.05.0->pytorch-lightning==1.6.5->-r requirements.txt (line 17)) (6.0.4)\n",
      "Requirement already satisfied: yarl<2.0,>=1.0 in /opt/conda/lib/python3.10/site-packages (from aiohttp!=4.0.0a0,!=4.0.0a1->fsspec[http]!=2021.06.0,>=2021.05.0->pytorch-lightning==1.6.5->-r requirements.txt (line 17)) (1.9.4)\n",
      "Requirement already satisfied: async-timeout<5.0,>=4.0 in /opt/conda/lib/python3.10/site-packages (from aiohttp!=4.0.0a0,!=4.0.0a1->fsspec[http]!=2021.06.0,>=2021.05.0->pytorch-lightning==1.6.5->-r requirements.txt (line 17)) (4.0.3)\n",
      "Requirement already satisfied: pyasn1<0.6.0,>=0.4.6 in /opt/conda/lib/python3.10/site-packages (from pyasn1-modules>=0.2.1->google-auth<3,>=1.6.3->tensorboard==2.9.1->-r requirements.txt (line 9)) (0.5.1)\n",
      "Requirement already satisfied: oauthlib>=3.0.0 in /opt/conda/lib/python3.10/site-packages (from requests-oauthlib>=0.7.0->google-auth-oauthlib<0.5,>=0.4.1->tensorboard==2.9.1->-r requirements.txt (line 9)) (3.2.2)\n",
      "\u001b[33mDEPRECATION: pytorch-lightning 1.6.5 has a non-standard dependency specifier torch>=1.8.*. pip 24.0 will enforce this behaviour change. A possible replacement is to upgrade to a newer version of pytorch-lightning or contact the author to suggest that they release a version with a conforming dependency specifiers. Discussion can be found at https://github.com/pypa/pip/issues/12063\u001b[0m\u001b[33m\n",
      "\u001b[0m"
     ]
    }
   ],
   "source": [
    "!pip3 install -r requirements.txt"
   ]
  },
  {
   "attachments": {
    "image.png": {
     "image/png": "[encoded data removed]"
    }
   },
   "cell_type": "markdown",
   "metadata": {
    "id": "MQ0sNuMePBXx"
   },
   "source": [
    "# Introduction\n",
    "*   **Background of the problem:**\n",
    "\n",
    "  Medical image analysis is vitally important in diagnosing diseases and predicting patient outcomes in general.  However, the effectiveness of deep learning techniques in this realm is often hindered by a lack of labeled data due to issues such as a need for the domain-specific knowledge required for labeling, patient privacy concerns, disease prevalence, and an incomplete understanding of rare or emerging diseases.  This is a challenge when applying deep learning techniques whose performance often relies on large annotated datasets.  Additionally, existing state-of-the-art self-supervised learning techniques often require significant computational resources, such as large batch sizes and extensive training times, to achieve maximum performance.  This oftentimes makes them impractical for many medical imaging applications where compute budgets are limited.\n",
    "  \n",
    "  Current state-of-the-art self-supervised models such as DINO and BYOL can perform well with limited labeled data, but they still require considerable computational resources.  DINO is a teacher and student network, where both the student and the teacher utilize a Vision Transformer (ViT) architecture.  This state-of-the-art, self-supervised model performed comparatively well to its predecessors when trained on unlabeled data.  However, its performance is sometimes dwarfed by supervised models.  Developing a deep learning architecture which performs well with limited labeled data and limited computational resources, could lead to increased patient longevity and general health.  \n",
    "\n",
    "*   **Paper explanation:**\n",
    "\n",
    "  The key idea proposed in the CASS paper [1] is to leverage both CNNs and Transformers simultaneously, in a self-supervised learning approach, in order to address the challenges of limited labeled data and high computational cost in medical image analysis.  Unlike existing self-supervised methods, which may use one of these architectures, CASS passes images through a CNN and Transformer in parallel to extract their representations.  These representations are then used to find cosine similarity loss.  The idea is that CNNs and Transformers have different strong suits and by training them in parallel they’re able to learn from one another.  CNNs are translation equivariant and better at capturing local details, while Transformers are better at modeling global context.  By contrasting the features extracted by each architecture, they are able to learn from one another and eventually capture a richer and more useful representation.\n",
    "\n",
    "  The authors demonstrate that CASS outperforms existing self-supervised methods, like DINO, in terms of F1 Score and Recall value by an average of 3.8% with 1% labeled data, 5.9% with 10% labeled data, and 10.13% with 100% labeled data [1].  It achieved this while requiring 69% less training time on average, compared to DINO.  CASS was also shown to be more robust to changes in batch size and training epochs, which is a key limitation in compute restricted environments.  \n",
    "\n",
    "  CASS marks an important step towards making self-supervised deep learning models more widely accessible and practically useful for medical image analysis.  It has the potential to accelerate research on rare and emerging diseases where labeled data is scarce, thus advancing the field of computer-aided diagnosis and patient outcome prediction.\n",
    "\n",
    "   ![image.png](attachment:image.png)\n",
    "\n"
   ]
  },
  {
   "cell_type": "markdown",
   "metadata": {
    "id": "uygL9tTPSVHB"
   },
   "source": [
    "# Scope of Reproducibility:\n",
    "\n",
    "In our project, we aim to validate the following hypotheses:\n",
    "\n",
    "* **Hypothesis 1:** CASS is more robust to changes in batch size and number of epochs than existing self-supervised models (DINO).\n",
    "\n",
    "* **Hypothesis 2:** CASS requires less training time than existing self-supervised models (DINO).\n",
    "\n",
    "To test these hypotheses, we will conduct the following experiments:\n",
    "\n",
    "1.   **Batch size ablation:** We evaluated the performance change of CASS when pre-trained with different batch sizes on the same dataset.  We tested with batch sizes of 8, 12, and 16.  We had hoped to test a batch size of 32, but we were limited by our hardware to do less.  We measured the classification performance and compare results between the varying batch sizes.\n",
    "\n",
    "2.  **Pre-training epochs ablation:**  We measured the effect of the number of pre-training epochs on the performance of CASS when trained on identical datasets and identical  configurations, other than the number of pre-training epochs.  We tested with epochs of 50, 100, and 200.  As in experiment 1, we measured the classification performance and compared results between the varying epoch ranges.  The authors found that there were diminishing returns on performance when increasing the epochs beyond 200, so we focused our experiments on the lower epoch ranges.\n",
    "\n",
    "3.   **Training time comparison:** We will measure and compare the time required to train CASS and DINO on the same dataset.  We will be comparing our results to the DINO results presented in the paper   Unfortunately, our hardware will not exactly match what was used in the paper, so we will need to make a calculated estimation on what the expected difference would be given the differences between our hardware.\n",
    "\n"
   ]
  },
  {
   "cell_type": "markdown",
   "metadata": {
    "id": "xWAHJ_1CdtaA"
   },
   "source": [
    "# Methodology\n",
    "\n",
    "## Environment\n",
    "### Python Version\n",
    "The python version when running locally is 3.10.12 and the python version running on google cloud is 3.10.13. Both were tested and should be compatible with all packages being used\n",
    "### Dependencies and packages\n",
    "All required dependencies are in requirements.txt file and should be ran after installing python with correct version. "
   ]
  },
  {
   "cell_type": "code",
   "execution_count": 1,
   "metadata": {
    "id": "yu61Jp1xrnKk"
   },
   "outputs": [
    {
     "name": "stdout",
     "output_type": "stream",
     "text": [
      "1.11.0+cu102\n"
     ]
    }
   ],
   "source": [
    "# import  packages you need\n",
    "import numpy as np\n",
    "from tqdm import tqdm\n",
    "import numpy as np\n",
    "import torch\n",
    "import torch.nn as nn\n",
    "import torch.optim as optim\n",
    "import torch.utils.data as data\n",
    "import torchvision.transforms as transforms\n",
    "\n",
    "\n",
    "print(torch.__version__)"
   ]
  },
  {
   "cell_type": "code",
   "execution_count": 2,
   "metadata": {
    "id": "TYS7rMxYx0K1"
   },
   "outputs": [],
   "source": [
    "import os\n",
    "import numpy as np\n",
    "import pytorch_lightning as pl\n",
    "import torch\n",
    "import pandas as pd\n",
    "import timm\n",
    "import torch.nn as nn\n",
    "from tqdm import tqdm\n",
    "from PIL import Image\n",
    "from sklearn.model_selection import KFold\n",
    "from torchvision import transforms as tsfm\n",
    "from torch.utils.data import Dataset, DataLoader\n",
    "from pytorch_lightning import Trainer, seed_everything\n",
    "from pytorch_lightning.loggers import CSVLogger\n",
    "from pytorch_lightning.callbacks import ModelCheckpoint, EarlyStopping\n",
    "from torchcontrib.optim import SWA\n",
    "from torchmetrics import Metric\n",
    "from torch.utils.tensorboard import SummaryWriter"
   ]
  },
  {
   "cell_type": "code",
   "execution_count": 3,
   "metadata": {},
   "outputs": [],
   "source": [
    "import numpy as np # linear algebra\n",
    "import pandas as pd # data processing, CSV file I/O (e.g. pd.read_csv)\n",
    "import matplotlib.pyplot as plt\n",
    "%matplotlib inline\n",
    "from PIL import Image\n",
    "from glob import glob\n",
    "#from skimage.io import imread\n",
    "from os import listdir\n",
    "import time\n",
    "import copy\n",
    "from tqdm import tqdm"
   ]
  },
  {
   "cell_type": "code",
   "execution_count": 4,
   "metadata": {},
   "outputs": [],
   "source": [
    "# General Imports\n",
    "import matplotlib.pyplot as plt\n"
   ]
  },
  {
   "cell_type": "markdown",
   "metadata": {},
   "source": [
    "## Data\n",
    "### Data Download Instruction\n",
    "1. Visit https://www.kaggle.com/datasets/masoudnickparvar/brain-tumor-mri-dataset\n",
    "2. Create/login an account and download the dataset by clicking on the button on the top right of the page\n",
    "3. Unzip the file and place it in the same directory as the ntoebook\n",
    "4. The folder should contain two sub folders, one training and one testing with 4 sub folders inside each\n",
    "\n",
    " The following section provides visualization and codes to better understand the data and generate traning.csv and testing.csv for our future training process\n",
    "\n"
   ]
  },
  {
   "cell_type": "code",
   "execution_count": 5,
   "metadata": {},
   "outputs": [],
   "source": [
    "training_base_path = \"BrainMRI/Training/\""
   ]
  },
  {
   "cell_type": "code",
   "execution_count": 6,
   "metadata": {},
   "outputs": [],
   "source": [
    "testing_base_path = \"BrainMRI/Testing/\""
   ]
  },
  {
   "cell_type": "code",
   "execution_count": 9,
   "metadata": {},
   "outputs": [
    {
     "name": "stdout",
     "output_type": "stream",
     "text": [
      "4\n"
     ]
    }
   ],
   "source": [
    "training_folders = listdir(training_base_path) \n",
    "print(len(training_folders))"
   ]
  },
  {
   "cell_type": "code",
   "execution_count": 10,
   "metadata": {},
   "outputs": [
    {
     "data": {
      "text/plain": [
       "['meningioma', 'glioma', 'pituitary', 'notumor']"
      ]
     },
     "execution_count": 10,
     "metadata": {},
     "output_type": "execute_result"
    }
   ],
   "source": [
    "training_folders"
   ]
  },
  {
   "cell_type": "code",
   "execution_count": 90,
   "metadata": {},
   "outputs": [],
   "source": [
    "training_file_count=[]\n",
    "for i in training_folders:\n",
    "    path = training_base_path + i\n",
    "    sub_files = listdir(path)\n",
    "    training_file_count.append(len(sub_files))\n"
   ]
  },
  {
   "cell_type": "code",
   "execution_count": 91,
   "metadata": {},
   "outputs": [
    {
     "name": "stdout",
     "output_type": "stream",
     "text": [
      "4\n"
     ]
    }
   ],
   "source": [
    "testing_folders = listdir(testing_base_path) \n",
    "print(len(testing_folders))"
   ]
  },
  {
   "cell_type": "code",
   "execution_count": 94,
   "metadata": {},
   "outputs": [
    {
     "data": {
      "text/plain": [
       "['glioma', 'meningioma', 'pituitary', 'notumor']"
      ]
     },
     "execution_count": 94,
     "metadata": {},
     "output_type": "execute_result"
    }
   ],
   "source": [
    "testing_folders"
   ]
  },
  {
   "cell_type": "code",
   "execution_count": 96,
   "metadata": {},
   "outputs": [
    {
     "name": "stdout",
     "output_type": "stream",
     "text": [
      "300\n",
      "306\n",
      "300\n",
      "405\n"
     ]
    }
   ],
   "source": [
    "testing_file_count=[]\n",
    "for i in testing_folders:\n",
    "    path = testing_base_path + i\n",
    "    sub_files = listdir(path)\n",
    "    testing_file_count.append(len(sub_files))\n",
    "    print(len(sub_files))"
   ]
  },
  {
   "cell_type": "code",
   "execution_count": 98,
   "metadata": {},
   "outputs": [
    {
     "name": "stdout",
     "output_type": "stream",
     "text": [
      "BrainMRI/Training/glioma\n",
      "BrainMRI/Training/meningioma\n",
      "BrainMRI/Training/pituitary\n",
      "BrainMRI/Training/notumor\n",
      "Total Number of Training Images:5712\n"
     ]
    }
   ],
   "source": [
    "total_training_images = 0\n",
    "for n in range(len(training_folders)):\n",
    "    patient_id = training_folders[n]\n",
    "    patient_path = training_base_path  + patient_id\n",
    "    print(patient_path)\n",
    "    class_path = patient_path + \"/\"  + \"/\"\n",
    "    subfiles = listdir(class_path)\n",
    "    total_training_images += len(subfiles)\n",
    "print(\"Total Number of Training Images:\" + str(total_training_images))"
   ]
  },
  {
   "cell_type": "code",
   "execution_count": 99,
   "metadata": {},
   "outputs": [
    {
     "name": "stdout",
     "output_type": "stream",
     "text": [
      "BrainMRI/Testing/glioma\n",
      "BrainMRI/Testing/meningioma\n",
      "BrainMRI/Testing/pituitary\n",
      "BrainMRI/Testing/notumor\n",
      "Total Number of Testing Images:1311\n"
     ]
    }
   ],
   "source": [
    "total_testing_images = 0\n",
    "for n in range(len(testing_folders)):\n",
    "    patient_id = testing_folders[n]\n",
    "    patient_path = testing_base_path  + patient_id\n",
    "    print(patient_path)\n",
    "    class_path = patient_path + \"/\"  + \"/\"\n",
    "    subfiles = listdir(class_path)\n",
    "    total_testing_images += len(subfiles)\n",
    "print(\"Total Number of Testing Images:\" + str(total_testing_images))"
   ]
  },
  {
   "cell_type": "code",
   "execution_count": 100,
   "metadata": {},
   "outputs": [
    {
     "data": {
      "text/plain": [
       "[300, 306, 300, 405]"
      ]
     },
     "execution_count": 100,
     "metadata": {},
     "output_type": "execute_result"
    }
   ],
   "source": [
    "testing_file_count"
   ]
  },
  {
   "cell_type": "code",
   "execution_count": 101,
   "metadata": {},
   "outputs": [
    {
     "data": {
      "image/png": "[encoded data removed]",
      "text/plain": [
       "<Figure size 1440x1008 with 3 Axes>"
      ]
     },
     "metadata": {},
     "output_type": "display_data"
    }
   ],
   "source": [
    "_, ax = plt.subplots(ncols=3, figsize=(20, 14))\n",
    "\n",
    "# Plotting training data types\n",
    "\n",
    "ax[0].set_title('Training Data')\n",
    "ax[0].pie(\n",
    "    training_file_count,\n",
    "    labels=training_folders,\n",
    "    colors=['#FAC500','#0BFA00', '#0066FA','#FA0000'], \n",
    "    autopct=lambda p: '{:.2f}%\\n{:,.0f}'.format(p, p *total_training_images / 100),\n",
    "    explode=(0.01, 0.01, 0.1, 0.01),\n",
    "    textprops={'fontsize': 20}\n",
    ")\n",
    "\n",
    "\n",
    "\n",
    "ax[1].set_title('Train Test Split')\n",
    "ax[1].pie(\n",
    "    [total_training_images, total_testing_images],\n",
    "    labels=['Train','Test'],\n",
    "    colors=['darkcyan', 'orange'], \n",
    "    autopct=lambda p: '{:.2f}%\\n{:,.0f}'.format(p, p * sum([total_training_images, total_testing_images]) / 100),\n",
    "    explode=(0.1, 0),\n",
    "    startangle=85,\n",
    "    textprops={'fontsize': 20}\n",
    ")\n",
    "\n",
    "\n",
    "ax[2].set_title('Testing Data')\n",
    "ax[2].pie(\n",
    "    testing_file_count,\n",
    "    labels=testing_folders,\n",
    "    colors=['#FAC500', '#0BFA00', '#0066FA', '#FA0000'],\n",
    "    autopct=lambda p: '{:.2f}%\\n{:,.0f}'.format(p, p * total_testing_images / 100),\n",
    "    explode=(0.01, 0.01, 0.1, 0.01),\n",
    "    textprops={'fontsize': 20} \n",
    ")\n",
    "\n",
    "\n",
    "plt.show()"
   ]
  },
  {
   "cell_type": "code",
   "execution_count": 130,
   "metadata": {},
   "outputs": [
    {
     "data": {
      "text/html": [
       "<div>\n",
       "<style scoped>\n",
       "    .dataframe tbody tr th:only-of-type {\n",
       "        vertical-align: middle;\n",
       "    }\n",
       "\n",
       "    .dataframe tbody tr th {\n",
       "        vertical-align: top;\n",
       "    }\n",
       "\n",
       "    .dataframe thead th {\n",
       "        text-align: right;\n",
       "    }\n",
       "</style>\n",
       "<table border=\"1\" class=\"dataframe\">\n",
       "  <thead>\n",
       "    <tr style=\"text-align: right;\">\n",
       "      <th></th>\n",
       "      <th>path</th>\n",
       "      <th>target</th>\n",
       "    </tr>\n",
       "  </thead>\n",
       "  <tbody>\n",
       "    <tr>\n",
       "      <th>0</th>\n",
       "      <td>BrainMRI/Training/glioma/Tr-gl_0162.jpg</td>\n",
       "      <td>glioma</td>\n",
       "    </tr>\n",
       "    <tr>\n",
       "      <th>1</th>\n",
       "      <td>BrainMRI/Training/glioma/Tr-gl_0840.jpg</td>\n",
       "      <td>glioma</td>\n",
       "    </tr>\n",
       "    <tr>\n",
       "      <th>2</th>\n",
       "      <td>BrainMRI/Training/glioma/Tr-gl_0372.jpg</td>\n",
       "      <td>glioma</td>\n",
       "    </tr>\n",
       "    <tr>\n",
       "      <th>3</th>\n",
       "      <td>BrainMRI/Training/glioma/Tr-gl_0343.jpg</td>\n",
       "      <td>glioma</td>\n",
       "    </tr>\n",
       "    <tr>\n",
       "      <th>4</th>\n",
       "      <td>BrainMRI/Training/glioma/Tr-gl_0367.jpg</td>\n",
       "      <td>glioma</td>\n",
       "    </tr>\n",
       "  </tbody>\n",
       "</table>\n",
       "</div>"
      ],
      "text/plain": [
       "                                      path  target\n",
       "0  BrainMRI/Training/glioma/Tr-gl_0162.jpg  glioma\n",
       "1  BrainMRI/Training/glioma/Tr-gl_0840.jpg  glioma\n",
       "2  BrainMRI/Training/glioma/Tr-gl_0372.jpg  glioma\n",
       "3  BrainMRI/Training/glioma/Tr-gl_0343.jpg  glioma\n",
       "4  BrainMRI/Training/glioma/Tr-gl_0367.jpg  glioma"
      ]
     },
     "execution_count": 130,
     "metadata": {},
     "output_type": "execute_result"
    }
   ],
   "source": [
    "data = pd.DataFrame(index=np.arange(0, total_training_images), columns=[\"path\", \"target\"])\n",
    "\n",
    "k = 0\n",
    "for n in range(len(training_folders)):\n",
    "    patient_id = training_folders[n]\n",
    "    patient_path = training_base_path  + patient_id\n",
    "    class_path = patient_path + \"/\"\n",
    "    subfiles = listdir(class_path)\n",
    "    for m in range(len(subfiles)):\n",
    "        image_path = subfiles[m]\n",
    "        data.iloc[k][\"path\"] = class_path + image_path \n",
    "        data.iloc[k][\"target\"] = patient_id\n",
    "        k += 1  \n",
    "\n",
    "data.head()"
   ]
  },
  {
   "cell_type": "code",
   "execution_count": 131,
   "metadata": {},
   "outputs": [
    {
     "data": {
      "text/plain": [
       "notumor       0.279237\n",
       "pituitary     0.255077\n",
       "meningioma    0.234419\n",
       "glioma        0.231268\n",
       "Name: target, dtype: float64"
      ]
     },
     "execution_count": 131,
     "metadata": {},
     "output_type": "execute_result"
    }
   ],
   "source": [
    "data['target'].value_counts()/len(data)"
   ]
  },
  {
   "cell_type": "markdown",
   "metadata": {},
   "source": [
    "If would like to take a subset of data, do it here"
   ]
  },
  {
   "cell_type": "code",
   "execution_count": 132,
   "metadata": {},
   "outputs": [],
   "source": [
    "data_train = data.sample(int(len(data)*1))"
   ]
  },
  {
   "cell_type": "code",
   "execution_count": 133,
   "metadata": {},
   "outputs": [
    {
     "data": {
      "text/plain": [
       "4098     pituitary\n",
       "871         glioma\n",
       "3503     pituitary\n",
       "1765    meningioma\n",
       "2334    meningioma\n",
       "           ...    \n",
       "1317        glioma\n",
       "2283    meningioma\n",
       "2004    meningioma\n",
       "3668     pituitary\n",
       "607         glioma\n",
       "Name: target, Length: 5712, dtype: object"
      ]
     },
     "execution_count": 133,
     "metadata": {},
     "output_type": "execute_result"
    }
   ],
   "source": [
    "data_train['target']"
   ]
  },
  {
   "cell_type": "code",
   "execution_count": 134,
   "metadata": {},
   "outputs": [],
   "source": [
    "#creating CSV for the entire dataset\n",
    "data_train.to_csv('BrainMRI/training.csv')"
   ]
  },
  {
   "cell_type": "markdown",
   "metadata": {},
   "source": [
    "Get the class weights to use with focal loss"
   ]
  },
  {
   "cell_type": "code",
   "execution_count": 143,
   "metadata": {},
   "outputs": [
    {
     "data": {
      "text/plain": [
       "{'pituitary': 0, 'glioma': 1, 'meningioma': 2, 'notumor': 3}"
      ]
     },
     "execution_count": 143,
     "metadata": {},
     "output_type": "execute_result"
    }
   ],
   "source": [
    "label_str2num={}\n",
    "num=0\n",
    "for i in data_train['target'].unique():\n",
    "    label_str2num[i]=num\n",
    "    num+=1\n",
    "label_str2num "
   ]
  },
  {
   "cell_type": "code",
   "execution_count": 144,
   "metadata": {},
   "outputs": [],
   "source": [
    "data={}\n",
    "for i in data_train['target']:\n",
    "    if i in data:\n",
    "        data[i]+=1\n",
    "    else:\n",
    "        data[i]=1"
   ]
  },
  {
   "cell_type": "code",
   "execution_count": 145,
   "metadata": {},
   "outputs": [
    {
     "data": {
      "text/plain": [
       "notumor       1595\n",
       "pituitary     1457\n",
       "meningioma    1339\n",
       "glioma        1321\n",
       "Name: target, dtype: int64"
      ]
     },
     "execution_count": 145,
     "metadata": {},
     "output_type": "execute_result"
    }
   ],
   "source": [
    "data_train['target'].value_counts()"
   ]
  },
  {
   "cell_type": "code",
   "execution_count": 146,
   "metadata": {},
   "outputs": [],
   "source": [
    "new_data={}\n",
    "for i in data:\n",
    "    new_data[label_str2num[i]]=data[i]"
   ]
  },
  {
   "cell_type": "code",
   "execution_count": 147,
   "metadata": {},
   "outputs": [
    {
     "data": {
      "text/plain": [
       "{0: 1457, 1: 1321, 2: 1339, 3: 1595}"
      ]
     },
     "execution_count": 147,
     "metadata": {},
     "output_type": "execute_result"
    }
   ],
   "source": [
    "new_data"
   ]
  },
  {
   "cell_type": "code",
   "execution_count": 148,
   "metadata": {},
   "outputs": [],
   "source": [
    "from collections import OrderedDict\n",
    "dist = OrderedDict(sorted(new_data.items()))\n",
    "dist=dict(dist)"
   ]
  },
  {
   "cell_type": "code",
   "execution_count": 149,
   "metadata": {},
   "outputs": [
    {
     "name": "stdout",
     "output_type": "stream",
     "text": [
      "Original Array =  dict_values([1457, 1321, 1339, 1595])\n",
      "Normalized Array =  [0.5970802919708029, 0.2, 0.25255474452554744, 1.0]\n"
     ]
    }
   ],
   "source": [
    "\n",
    "def normalize(arr, t_min, t_max):\n",
    "    norm_arr = []\n",
    "    diff = t_max - t_min\n",
    "    diff_arr = max(arr) - min(arr)\n",
    "    for i in arr:\n",
    "        temp = (((i - min(arr))*diff)/diff_arr) + t_min\n",
    "        norm_arr.append(temp)\n",
    "    return norm_arr\n",
    "  \n",
    "# assign array and range\n",
    "array_1d = dist.values()\n",
    "range_to_normalize = (0.2, 1)\n",
    "normalized_array_1d = normalize(\n",
    "    array_1d, range_to_normalize[0], \n",
    "  range_to_normalize[1])\n",
    "  \n",
    "# display original and normalized array\n",
    "print(\"Original Array = \", array_1d)\n",
    "print(\"Normalized Array = \", normalized_array_1d)"
   ]
  },
  {
   "cell_type": "markdown",
   "metadata": {},
   "source": [
    "We repeat the same to generate csv file for test datasets"
   ]
  },
  {
   "cell_type": "code",
   "execution_count": 150,
   "metadata": {},
   "outputs": [
    {
     "data": {
      "text/html": [
       "<div>\n",
       "<style scoped>\n",
       "    .dataframe tbody tr th:only-of-type {\n",
       "        vertical-align: middle;\n",
       "    }\n",
       "\n",
       "    .dataframe tbody tr th {\n",
       "        vertical-align: top;\n",
       "    }\n",
       "\n",
       "    .dataframe thead th {\n",
       "        text-align: right;\n",
       "    }\n",
       "</style>\n",
       "<table border=\"1\" class=\"dataframe\">\n",
       "  <thead>\n",
       "    <tr style=\"text-align: right;\">\n",
       "      <th></th>\n",
       "      <th>path</th>\n",
       "      <th>target</th>\n",
       "    </tr>\n",
       "  </thead>\n",
       "  <tbody>\n",
       "    <tr>\n",
       "      <th>0</th>\n",
       "      <td>BrainMRI/Testing/glioma/Te-gl_0262.jpg</td>\n",
       "      <td>glioma</td>\n",
       "    </tr>\n",
       "    <tr>\n",
       "      <th>1</th>\n",
       "      <td>BrainMRI/Testing/glioma/Te-gl_0061.jpg</td>\n",
       "      <td>glioma</td>\n",
       "    </tr>\n",
       "    <tr>\n",
       "      <th>2</th>\n",
       "      <td>BrainMRI/Testing/glioma/Te-gl_0040.jpg</td>\n",
       "      <td>glioma</td>\n",
       "    </tr>\n",
       "    <tr>\n",
       "      <th>3</th>\n",
       "      <td>BrainMRI/Testing/glioma/Te-gl_0287.jpg</td>\n",
       "      <td>glioma</td>\n",
       "    </tr>\n",
       "    <tr>\n",
       "      <th>4</th>\n",
       "      <td>BrainMRI/Testing/glioma/Te-gl_0075.jpg</td>\n",
       "      <td>glioma</td>\n",
       "    </tr>\n",
       "  </tbody>\n",
       "</table>\n",
       "</div>"
      ],
      "text/plain": [
       "                                     path  target\n",
       "0  BrainMRI/Testing/glioma/Te-gl_0262.jpg  glioma\n",
       "1  BrainMRI/Testing/glioma/Te-gl_0061.jpg  glioma\n",
       "2  BrainMRI/Testing/glioma/Te-gl_0040.jpg  glioma\n",
       "3  BrainMRI/Testing/glioma/Te-gl_0287.jpg  glioma\n",
       "4  BrainMRI/Testing/glioma/Te-gl_0075.jpg  glioma"
      ]
     },
     "execution_count": 150,
     "metadata": {},
     "output_type": "execute_result"
    }
   ],
   "source": [
    "data = pd.DataFrame(index=np.arange(0, total_testing_images), columns=[\"path\", \"target\"])\n",
    "\n",
    "k = 0\n",
    "for n in range(len(testing_folders)):\n",
    "    patient_id = testing_folders[n]\n",
    "    patient_path = testing_base_path  + patient_id\n",
    "    class_path = patient_path + \"/\"\n",
    "    subfiles = listdir(class_path)\n",
    "    for m in range(len(subfiles)):\n",
    "        image_path = subfiles[m]\n",
    "        data.iloc[k][\"path\"] = class_path + image_path \n",
    "        data.iloc[k][\"target\"] = patient_id\n",
    "        k += 1  \n",
    "\n",
    "data.head()"
   ]
  },
  {
   "cell_type": "code",
   "execution_count": 151,
   "metadata": {},
   "outputs": [
    {
     "data": {
      "text/plain": [
       "0        glioma\n",
       "1        glioma\n",
       "2        glioma\n",
       "3        glioma\n",
       "4        glioma\n",
       "         ...   \n",
       "1306    notumor\n",
       "1307    notumor\n",
       "1308    notumor\n",
       "1309    notumor\n",
       "1310    notumor\n",
       "Name: target, Length: 1311, dtype: object"
      ]
     },
     "execution_count": 151,
     "metadata": {},
     "output_type": "execute_result"
    }
   ],
   "source": [
    "data['target']"
   ]
  },
  {
   "cell_type": "code",
   "execution_count": 152,
   "metadata": {},
   "outputs": [],
   "source": [
    "data.to_csv('BrainMRI/testing.csv')"
   ]
  },
  {
   "cell_type": "markdown",
   "metadata": {},
   "source": [
    "# Model\n",
    "This model configures the CASS pretraining algorithm with furthur finetuning with both CNN and Vit. We are reusing the code from here https://github.com/pranavsinghps1/CASS/blob/master/CASS.ipynb and reusing parameters used in paper for draft purpose with minor changes due to different datasets were being used. \\\n",
    "Further explanations with explanations are available in the code sections."
   ]
  },
  {
   "cell_type": "markdown",
   "metadata": {},
   "source": [
    "### If you are interested in the result and would not like to run the training again, please jump to the result section, we've saved a checkpoint to use in the result section"
   ]
  },
  {
   "cell_type": "code",
   "execution_count": 7,
   "metadata": {},
   "outputs": [],
   "source": [
    "import os\n",
    "import numpy as np\n",
    "import pytorch_lightning as pl\n",
    "import torch\n",
    "import pandas as pd\n",
    "import timm\n",
    "import time\n",
    "import math\n",
    "import torch.nn as nn\n",
    "from tqdm import tqdm\n",
    "from PIL import Image\n",
    "from torchvision import transforms as tsfm\n",
    "from torch.utils.data import Dataset, DataLoader\n",
    "from pytorch_lightning import Trainer, seed_everything\n",
    "from pytorch_lightning.loggers import CSVLogger\n",
    "from pytorch_lightning.callbacks import ModelCheckpoint, EarlyStopping\n",
    "from torchcontrib.optim import SWA\n",
    "from torchmetrics import Metric\n",
    "from torch.utils.tensorboard import SummaryWriter"
   ]
  },
  {
   "cell_type": "markdown",
   "metadata": {},
   "source": [
    "Copy the label_num2str and cls weight to here"
   ]
  },
  {
   "cell_type": "code",
   "execution_count": 8,
   "metadata": {},
   "outputs": [],
   "source": [
    "class CFG:\n",
    "    # data path\n",
    "    data_path  = 'BrainMRI/training.csv'\n",
    "    train_imgs_dir  = 'Training'\n",
    "    # model info\n",
    "    # label info\n",
    "    label_num2str = {0: 'glioma',\n",
    "                     1: 'pituitary',\n",
    "                     2:'notumor',\n",
    "                     3:'meningioma'\n",
    "                     }\n",
    "    label_str2num = {'glioma': 0,\n",
    "                     'pituitary':1,\n",
    "                     'notumor':2,\n",
    "                     'meningioma':3\n",
    "                     }\n",
    "    fl_alpha = 1.0  # alpha of focal_loss\n",
    "    fl_gamma = 2.0  # gamma of focal_loss\n",
    "    cls_weight =  [0.2, 0.5970802919708029, 1.0, 0.25255474452554744] # copy the cls_weight from previous step or just use the variable\n",
    "    cnn_name='resnet50'\n",
    "    vit_name='vit_base_patch16_384'\n",
    "    seed = 77\n",
    "    num_classes = 4\n",
    "    batch_size = 16\n",
    "    t_max = 16\n",
    "    lr = 1e-3\n",
    "    min_lr = 1e-6\n",
    "    n_fold = 6\n",
    "    num_workers = 8\n",
    "    gpu_idx = 0\n",
    "    device = torch.device(f'cuda:{gpu_idx}' if torch.cuda.is_available() else 'cpu')\n",
    "    gpu_list = [gpu_idx]"
   ]
  },
  {
   "cell_type": "code",
   "execution_count": 9,
   "metadata": {},
   "outputs": [
    {
     "name": "stderr",
     "output_type": "stream",
     "text": [
      "Global seed set to 77\n"
     ]
    }
   ],
   "source": [
    "device = torch.device(\"cuda:0\" if torch.cuda.is_available() else \"cpu\")\n",
    "seed_everything(77)\n",
    "cfg=CFG()"
   ]
  },
  {
   "cell_type": "code",
   "execution_count": 10,
   "metadata": {},
   "outputs": [],
   "source": [
    "torch.manual_seed(77)\n",
    "if torch.cuda.is_available():\n",
    "    torch.cuda.manual_seed_all(77)"
   ]
  },
  {
   "cell_type": "code",
   "execution_count": null,
   "metadata": {},
   "outputs": [],
   "source": []
  },
  {
   "cell_type": "markdown",
   "metadata": {},
   "source": [
    "Compute Image Mean and Variance to be used for transform function, since we are using the same dataset. We don't really have to run this multiple times."
   ]
  },
  {
   "cell_type": "code",
   "execution_count": 11,
   "metadata": {},
   "outputs": [],
   "source": [
    "from torchvision import datasets, transforms\n",
    "transform = transforms.Compose([\n",
    "    transforms.Resize((384, 384)),  # Resize all images to the same size\n",
    "    transforms.ToTensor()           # Transform images to PyTorch tensors\n",
    "])\n",
    "dataset = datasets.ImageFolder('BrainMRI/Training', transform=transform)"
   ]
  },
  {
   "cell_type": "code",
   "execution_count": 12,
   "metadata": {},
   "outputs": [],
   "source": [
    "from torch.utils.data import DataLoader\n",
    "\n",
    "dataloader = DataLoader(dataset, batch_size=16, shuffle=False, num_workers=4)"
   ]
  },
  {
   "cell_type": "code",
   "execution_count": 13,
   "metadata": {},
   "outputs": [
    {
     "name": "stdout",
     "output_type": "stream",
     "text": [
      "842268672\n",
      "Mean: tensor([0.1857, 0.1857, 0.1858])\n",
      "Std Deviation: tensor([0.2018, 0.2018, 0.2018])\n"
     ]
    }
   ],
   "source": [
    "import torch\n",
    "\n",
    "def get_mean_and_std(dataloader):\n",
    "    channel_sum, channel_squared_sum, num_elements = 0, 0, 0\n",
    "\n",
    "    for data, _ in dataloader:\n",
    "        # Reshape data to be the shape of [B, C, W*H]\n",
    "        data = data.view(data.size(0), data.size(1), -1)\n",
    "        # Sum over all pixels and all batches for each channel\n",
    "        channel_sum += torch.sum(data, dim=[0, 2])\n",
    "        channel_squared_sum += torch.sum(data ** 2, dim=[0, 2])\n",
    "        num_elements += data.size(2) * data.size(0)\n",
    "\n",
    "    # Calculate the mean and variance\n",
    "    print(num_elements)\n",
    "    mean = channel_sum / num_elements\n",
    "    variance = (channel_squared_sum / num_elements) - (mean ** 2)\n",
    "    std_dev = torch.sqrt(variance)\n",
    "\n",
    "    return mean, std_dev\n",
    "\n",
    "# Calculate mean and std\n",
    "mean, std = get_mean_and_std(dataloader)\n",
    "print(f'Mean: {mean}')\n",
    "print(f'Std Deviation: {std}')"
   ]
  },
  {
   "cell_type": "code",
   "execution_count": 14,
   "metadata": {},
   "outputs": [],
   "source": [
    "\"\"\"\n",
    "Define train & valid image transformation\n",
    "\"\"\"\n",
    "# The mean and std from previous step goes here\n",
    "DATASET_IMAGE_MEAN = (0.1857, 0.1857, 0.1858)\n",
    "DATASET_IMAGE_STD = (0.2018, 0.2018, 0.2018)\n",
    "\n",
    "\n",
    "train_transform = tsfm.Compose([tsfm.Resize((384,384)),\n",
    "                                tsfm.RandomApply([tsfm.ColorJitter(0.2, 0.2, 0.2),tsfm.RandomPerspective(distortion_scale=0.2),], p=0.3),\n",
    "                                tsfm.RandomApply([tsfm.ColorJitter(0.2, 0.2, 0.2),tsfm.RandomAffine(degrees=10),], p=0.3),\n",
    "                                tsfm.RandomVerticalFlip(p=0.3),\n",
    "                                tsfm.RandomHorizontalFlip(p=0.3),\n",
    "                                tsfm.ToTensor(),\n",
    "                                tsfm.Normalize(DATASET_IMAGE_MEAN, DATASET_IMAGE_STD), ])\n",
    "\n",
    "valid_transform = tsfm.Compose([tsfm.Resize((384,384)),\n",
    "                                tsfm.ToTensor(),\n",
    "                                tsfm.Normalize(DATASET_IMAGE_MEAN, DATASET_IMAGE_STD), ])"
   ]
  },
  {
   "cell_type": "code",
   "execution_count": 15,
   "metadata": {},
   "outputs": [],
   "source": [
    "\"\"\"\n",
    "Define dataset class\n",
    "\"\"\"\n",
    "class Dataset(Dataset):\n",
    "    def __init__(self, cfg, img_names: list, labels: list, transform=None):\n",
    "        self.img_dir = cfg.train_imgs_dir\n",
    "        self.img_names = img_names\n",
    "        self.labels = labels\n",
    "        self.transform = transform\n",
    "\n",
    "    def __len__(self):\n",
    "        return len(self.img_names)\n",
    "\n",
    "    def __getitem__(self, idx):\n",
    "        img_path = self.img_names[idx]\n",
    "        img = Image.open(img_path).convert('RGB')\n",
    "        img_ts = self.transform(img)\n",
    "        label_ts = self.labels[idx]\n",
    "        return img_ts, label_ts"
   ]
  },
  {
   "cell_type": "markdown",
   "metadata": {},
   "source": [
    "As suggested in the original paper, since almost all medical datasets have some class imbalance, we applied class distribution normalized Focal Loss to navigate class imbalance"
   ]
  },
  {
   "cell_type": "code",
   "execution_count": 16,
   "metadata": {},
   "outputs": [],
   "source": [
    "\"\"\"\n",
    "Define Focal-Loss\n",
    "\"\"\"\n",
    "\n",
    "class FocalLoss(nn.Module):\n",
    "    \"\"\"\n",
    "    The focal loss for fighting against class-imbalance\n",
    "    \"\"\"\n",
    "    def __init__(self, alpha=1, gamma=2):\n",
    "        super(FocalLoss, self).__init__()\n",
    "        self.alpha = alpha\n",
    "        self.gamma = gamma\n",
    "        self.epsilon = 1e-12  # prevent training from Nan-loss error\n",
    "        self.cls_weights = torch.tensor([CFG.cls_weight],dtype=torch.float, requires_grad=False, device=CFG.device)\n",
    "\n",
    "    def forward(self, logits, target):\n",
    "        \"\"\"\n",
    "        logits & target should be tensors with shape [batch_size, num_classes]\n",
    "        \"\"\"\n",
    "        probs = torch.sigmoid(logits)\n",
    "        one_subtract_probs = 1.0 - probs\n",
    "        # add epsilon\n",
    "        probs_new = probs + self.epsilon\n",
    "        one_subtract_probs_new = one_subtract_probs + self.epsilon\n",
    "        # calculate focal loss\n",
    "        log_pt = target * torch.log(probs_new) + (1.0 - target) * torch.log(one_subtract_probs_new)\n",
    "        pt = torch.exp(log_pt)\n",
    "        focal_loss = -1.0 * (self.alpha * (1 - pt) ** self.gamma) * log_pt\n",
    "        focal_loss = focal_loss * self.cls_weights\n",
    "        return torch.mean(focal_loss)"
   ]
  },
  {
   "cell_type": "code",
   "execution_count": 17,
   "metadata": {},
   "outputs": [],
   "source": [
    "\"\"\"\n",
    "Define F1 score metric\n",
    "\"\"\"\n",
    "class MyF1Score(Metric):\n",
    "    full_state_update = False\n",
    "    def __init__(self, cfg, threshold: float = 0.5, dist_sync_on_step=False):\n",
    "        super().__init__(dist_sync_on_step=dist_sync_on_step)\n",
    "        self.cfg = cfg\n",
    "        self.threshold = threshold\n",
    "        self.add_state(\"tp\", default=torch.tensor(0), dist_reduce_fx=\"sum\")\n",
    "        self.add_state(\"fp\", default=torch.tensor(0), dist_reduce_fx=\"sum\")\n",
    "        self.add_state(\"fn\", default=torch.tensor(0), dist_reduce_fx=\"sum\")\n",
    "\n",
    "    def update(self, preds: torch.Tensor, target: torch.Tensor):\n",
    "        assert preds.shape == target.shape\n",
    "        preds_str_batch = self.num_to_str(torch.sigmoid(preds))\n",
    "        target_str_batch = self.num_to_str(target)\n",
    "        tp, fp, fn = 0, 0, 0\n",
    "        for pred_str_list, target_str_list in zip(preds_str_batch, target_str_batch):\n",
    "            for pred_str in pred_str_list:\n",
    "                if pred_str in target_str_list:\n",
    "                    tp += 1\n",
    "                if pred_str not in target_str_list:\n",
    "                    fp += 1\n",
    "\n",
    "            for target_str in target_str_list:\n",
    "                if target_str not in pred_str_list:\n",
    "                    fn += 1\n",
    "        self.tp += tp\n",
    "        self.fp += fp\n",
    "        self.fn += fn\n",
    "\n",
    "    def compute(self):\n",
    "        #To switch between F1 score and recall.\n",
    "        f1 = 2.0 * self.tp / (2.0 * self.tp + self.fn + self.fp)\n",
    "        #rec = self.tp/(self.tp + self.fn)\n",
    "        return f1\n",
    "    \n",
    "    def num_to_str(self, ts: torch.Tensor) -> list:\n",
    "        batch_bool_list = (ts > self.threshold).detach().cpu().numpy().tolist()\n",
    "        batch_str_list = []\n",
    "        for one_sample_bool in batch_bool_list:\n",
    "            lb_str_list = [self.cfg.label_num2str[lb_idx] for lb_idx, bool_val in enumerate(one_sample_bool) if bool_val]\n",
    "            batch_str_list.append(lb_str_list)\n",
    "        return batch_str_list"
   ]
  },
  {
   "cell_type": "code",
   "execution_count": 18,
   "metadata": {},
   "outputs": [],
   "source": [
    "df=pd.read_csv(cfg.data_path)"
   ]
  },
  {
   "cell_type": "code",
   "execution_count": 19,
   "metadata": {},
   "outputs": [],
   "source": [
    "from sklearn.model_selection import train_test_split\n",
    "X_train, X_val, y_train, y_val = train_test_split(df['path'], df['target'], test_size=0.2, random_state=77)"
   ]
  },
  {
   "cell_type": "code",
   "execution_count": 20,
   "metadata": {},
   "outputs": [],
   "source": [
    "all_img_names: list = X_train.values.tolist()\n",
    "all_img_names_valid: list = X_val.values.tolist()"
   ]
  },
  {
   "cell_type": "code",
   "execution_count": 21,
   "metadata": {},
   "outputs": [
    {
     "data": {
      "text/plain": [
       "4569"
      ]
     },
     "execution_count": 21,
     "metadata": {},
     "output_type": "execute_result"
    }
   ],
   "source": [
    "len(all_img_names)"
   ]
  },
  {
   "cell_type": "code",
   "execution_count": 22,
   "metadata": {},
   "outputs": [
    {
     "data": {
      "text/plain": [
       "1143"
      ]
     },
     "execution_count": 22,
     "metadata": {},
     "output_type": "execute_result"
    }
   ],
   "source": [
    "len(all_img_names_valid)"
   ]
  },
  {
   "cell_type": "code",
   "execution_count": 23,
   "metadata": {},
   "outputs": [
    {
     "data": {
      "text/plain": [
       "5712"
      ]
     },
     "execution_count": 23,
     "metadata": {},
     "output_type": "execute_result"
    }
   ],
   "source": [
    "len(all_img_names) + len(all_img_names_valid)"
   ]
  },
  {
   "cell_type": "code",
   "execution_count": 24,
   "metadata": {},
   "outputs": [],
   "source": [
    "all_img_labels_ts = []\n",
    "for tmp_lb in y_train:\n",
    "    tmp_label = torch.zeros([CFG.num_classes], dtype=torch.float)\n",
    "    label_num=CFG.label_str2num.get(tmp_lb)\n",
    "    k=int(label_num)\n",
    "    tmp_label[k] = 1.0\n",
    "    all_img_labels_ts.append(tmp_label) "
   ]
  },
  {
   "cell_type": "code",
   "execution_count": 25,
   "metadata": {},
   "outputs": [],
   "source": [
    "all_img_labels_val_ts = []\n",
    "for tmp_lb in y_val:\n",
    "    tmp_label = torch.zeros([CFG.num_classes], dtype=torch.float)\n",
    "    label_num=CFG.label_str2num.get(tmp_lb)\n",
    "    k=int(label_num)\n",
    "    tmp_label[k] = 1.0\n",
    "    all_img_labels_val_ts.append(tmp_label)"
   ]
  },
  {
   "cell_type": "code",
   "execution_count": 26,
   "metadata": {},
   "outputs": [
    {
     "data": {
      "text/plain": [
       "VisionTransformer(\n",
       "  (patch_embed): PatchEmbed(\n",
       "    (proj): Conv2d(3, 768, kernel_size=(16, 16), stride=(16, 16))\n",
       "    (norm): Identity()\n",
       "  )\n",
       "  (pos_drop): Dropout(p=0.0, inplace=False)\n",
       "  (blocks): Sequential(\n",
       "    (0): Block(\n",
       "      (norm1): LayerNorm((768,), eps=1e-06, elementwise_affine=True)\n",
       "      (attn): Attention(\n",
       "        (qkv): Linear(in_features=768, out_features=2304, bias=True)\n",
       "        (attn_drop): Dropout(p=0.0, inplace=False)\n",
       "        (proj): Linear(in_features=768, out_features=768, bias=True)\n",
       "        (proj_drop): Dropout(p=0.0, inplace=False)\n",
       "      )\n",
       "      (drop_path): Identity()\n",
       "      (norm2): LayerNorm((768,), eps=1e-06, elementwise_affine=True)\n",
       "      (mlp): Mlp(\n",
       "        (fc1): Linear(in_features=768, out_features=3072, bias=True)\n",
       "        (act): GELU()\n",
       "        (drop1): Dropout(p=0.0, inplace=False)\n",
       "        (fc2): Linear(in_features=3072, out_features=768, bias=True)\n",
       "        (drop2): Dropout(p=0.0, inplace=False)\n",
       "      )\n",
       "    )\n",
       "    (1): Block(\n",
       "      (norm1): LayerNorm((768,), eps=1e-06, elementwise_affine=True)\n",
       "      (attn): Attention(\n",
       "        (qkv): Linear(in_features=768, out_features=2304, bias=True)\n",
       "        (attn_drop): Dropout(p=0.0, inplace=False)\n",
       "        (proj): Linear(in_features=768, out_features=768, bias=True)\n",
       "        (proj_drop): Dropout(p=0.0, inplace=False)\n",
       "      )\n",
       "      (drop_path): Identity()\n",
       "      (norm2): LayerNorm((768,), eps=1e-06, elementwise_affine=True)\n",
       "      (mlp): Mlp(\n",
       "        (fc1): Linear(in_features=768, out_features=3072, bias=True)\n",
       "        (act): GELU()\n",
       "        (drop1): Dropout(p=0.0, inplace=False)\n",
       "        (fc2): Linear(in_features=3072, out_features=768, bias=True)\n",
       "        (drop2): Dropout(p=0.0, inplace=False)\n",
       "      )\n",
       "    )\n",
       "    (2): Block(\n",
       "      (norm1): LayerNorm((768,), eps=1e-06, elementwise_affine=True)\n",
       "      (attn): Attention(\n",
       "        (qkv): Linear(in_features=768, out_features=2304, bias=True)\n",
       "        (attn_drop): Dropout(p=0.0, inplace=False)\n",
       "        (proj): Linear(in_features=768, out_features=768, bias=True)\n",
       "        (proj_drop): Dropout(p=0.0, inplace=False)\n",
       "      )\n",
       "      (drop_path): Identity()\n",
       "      (norm2): LayerNorm((768,), eps=1e-06, elementwise_affine=True)\n",
       "      (mlp): Mlp(\n",
       "        (fc1): Linear(in_features=768, out_features=3072, bias=True)\n",
       "        (act): GELU()\n",
       "        (drop1): Dropout(p=0.0, inplace=False)\n",
       "        (fc2): Linear(in_features=3072, out_features=768, bias=True)\n",
       "        (drop2): Dropout(p=0.0, inplace=False)\n",
       "      )\n",
       "    )\n",
       "    (3): Block(\n",
       "      (norm1): LayerNorm((768,), eps=1e-06, elementwise_affine=True)\n",
       "      (attn): Attention(\n",
       "        (qkv): Linear(in_features=768, out_features=2304, bias=True)\n",
       "        (attn_drop): Dropout(p=0.0, inplace=False)\n",
       "        (proj): Linear(in_features=768, out_features=768, bias=True)\n",
       "        (proj_drop): Dropout(p=0.0, inplace=False)\n",
       "      )\n",
       "      (drop_path): Identity()\n",
       "      (norm2): LayerNorm((768,), eps=1e-06, elementwise_affine=True)\n",
       "      (mlp): Mlp(\n",
       "        (fc1): Linear(in_features=768, out_features=3072, bias=True)\n",
       "        (act): GELU()\n",
       "        (drop1): Dropout(p=0.0, inplace=False)\n",
       "        (fc2): Linear(in_features=3072, out_features=768, bias=True)\n",
       "        (drop2): Dropout(p=0.0, inplace=False)\n",
       "      )\n",
       "    )\n",
       "    (4): Block(\n",
       "      (norm1): LayerNorm((768,), eps=1e-06, elementwise_affine=True)\n",
       "      (attn): Attention(\n",
       "        (qkv): Linear(in_features=768, out_features=2304, bias=True)\n",
       "        (attn_drop): Dropout(p=0.0, inplace=False)\n",
       "        (proj): Linear(in_features=768, out_features=768, bias=True)\n",
       "        (proj_drop): Dropout(p=0.0, inplace=False)\n",
       "      )\n",
       "      (drop_path): Identity()\n",
       "      (norm2): LayerNorm((768,), eps=1e-06, elementwise_affine=True)\n",
       "      (mlp): Mlp(\n",
       "        (fc1): Linear(in_features=768, out_features=3072, bias=True)\n",
       "        (act): GELU()\n",
       "        (drop1): Dropout(p=0.0, inplace=False)\n",
       "        (fc2): Linear(in_features=3072, out_features=768, bias=True)\n",
       "        (drop2): Dropout(p=0.0, inplace=False)\n",
       "      )\n",
       "    )\n",
       "    (5): Block(\n",
       "      (norm1): LayerNorm((768,), eps=1e-06, elementwise_affine=True)\n",
       "      (attn): Attention(\n",
       "        (qkv): Linear(in_features=768, out_features=2304, bias=True)\n",
       "        (attn_drop): Dropout(p=0.0, inplace=False)\n",
       "        (proj): Linear(in_features=768, out_features=768, bias=True)\n",
       "        (proj_drop): Dropout(p=0.0, inplace=False)\n",
       "      )\n",
       "      (drop_path): Identity()\n",
       "      (norm2): LayerNorm((768,), eps=1e-06, elementwise_affine=True)\n",
       "      (mlp): Mlp(\n",
       "        (fc1): Linear(in_features=768, out_features=3072, bias=True)\n",
       "        (act): GELU()\n",
       "        (drop1): Dropout(p=0.0, inplace=False)\n",
       "        (fc2): Linear(in_features=3072, out_features=768, bias=True)\n",
       "        (drop2): Dropout(p=0.0, inplace=False)\n",
       "      )\n",
       "    )\n",
       "    (6): Block(\n",
       "      (norm1): LayerNorm((768,), eps=1e-06, elementwise_affine=True)\n",
       "      (attn): Attention(\n",
       "        (qkv): Linear(in_features=768, out_features=2304, bias=True)\n",
       "        (attn_drop): Dropout(p=0.0, inplace=False)\n",
       "        (proj): Linear(in_features=768, out_features=768, bias=True)\n",
       "        (proj_drop): Dropout(p=0.0, inplace=False)\n",
       "      )\n",
       "      (drop_path): Identity()\n",
       "      (norm2): LayerNorm((768,), eps=1e-06, elementwise_affine=True)\n",
       "      (mlp): Mlp(\n",
       "        (fc1): Linear(in_features=768, out_features=3072, bias=True)\n",
       "        (act): GELU()\n",
       "        (drop1): Dropout(p=0.0, inplace=False)\n",
       "        (fc2): Linear(in_features=3072, out_features=768, bias=True)\n",
       "        (drop2): Dropout(p=0.0, inplace=False)\n",
       "      )\n",
       "    )\n",
       "    (7): Block(\n",
       "      (norm1): LayerNorm((768,), eps=1e-06, elementwise_affine=True)\n",
       "      (attn): Attention(\n",
       "        (qkv): Linear(in_features=768, out_features=2304, bias=True)\n",
       "        (attn_drop): Dropout(p=0.0, inplace=False)\n",
       "        (proj): Linear(in_features=768, out_features=768, bias=True)\n",
       "        (proj_drop): Dropout(p=0.0, inplace=False)\n",
       "      )\n",
       "      (drop_path): Identity()\n",
       "      (norm2): LayerNorm((768,), eps=1e-06, elementwise_affine=True)\n",
       "      (mlp): Mlp(\n",
       "        (fc1): Linear(in_features=768, out_features=3072, bias=True)\n",
       "        (act): GELU()\n",
       "        (drop1): Dropout(p=0.0, inplace=False)\n",
       "        (fc2): Linear(in_features=3072, out_features=768, bias=True)\n",
       "        (drop2): Dropout(p=0.0, inplace=False)\n",
       "      )\n",
       "    )\n",
       "    (8): Block(\n",
       "      (norm1): LayerNorm((768,), eps=1e-06, elementwise_affine=True)\n",
       "      (attn): Attention(\n",
       "        (qkv): Linear(in_features=768, out_features=2304, bias=True)\n",
       "        (attn_drop): Dropout(p=0.0, inplace=False)\n",
       "        (proj): Linear(in_features=768, out_features=768, bias=True)\n",
       "        (proj_drop): Dropout(p=0.0, inplace=False)\n",
       "      )\n",
       "      (drop_path): Identity()\n",
       "      (norm2): LayerNorm((768,), eps=1e-06, elementwise_affine=True)\n",
       "      (mlp): Mlp(\n",
       "        (fc1): Linear(in_features=768, out_features=3072, bias=True)\n",
       "        (act): GELU()\n",
       "        (drop1): Dropout(p=0.0, inplace=False)\n",
       "        (fc2): Linear(in_features=3072, out_features=768, bias=True)\n",
       "        (drop2): Dropout(p=0.0, inplace=False)\n",
       "      )\n",
       "    )\n",
       "    (9): Block(\n",
       "      (norm1): LayerNorm((768,), eps=1e-06, elementwise_affine=True)\n",
       "      (attn): Attention(\n",
       "        (qkv): Linear(in_features=768, out_features=2304, bias=True)\n",
       "        (attn_drop): Dropout(p=0.0, inplace=False)\n",
       "        (proj): Linear(in_features=768, out_features=768, bias=True)\n",
       "        (proj_drop): Dropout(p=0.0, inplace=False)\n",
       "      )\n",
       "      (drop_path): Identity()\n",
       "      (norm2): LayerNorm((768,), eps=1e-06, elementwise_affine=True)\n",
       "      (mlp): Mlp(\n",
       "        (fc1): Linear(in_features=768, out_features=3072, bias=True)\n",
       "        (act): GELU()\n",
       "        (drop1): Dropout(p=0.0, inplace=False)\n",
       "        (fc2): Linear(in_features=3072, out_features=768, bias=True)\n",
       "        (drop2): Dropout(p=0.0, inplace=False)\n",
       "      )\n",
       "    )\n",
       "    (10): Block(\n",
       "      (norm1): LayerNorm((768,), eps=1e-06, elementwise_affine=True)\n",
       "      (attn): Attention(\n",
       "        (qkv): Linear(in_features=768, out_features=2304, bias=True)\n",
       "        (attn_drop): Dropout(p=0.0, inplace=False)\n",
       "        (proj): Linear(in_features=768, out_features=768, bias=True)\n",
       "        (proj_drop): Dropout(p=0.0, inplace=False)\n",
       "      )\n",
       "      (drop_path): Identity()\n",
       "      (norm2): LayerNorm((768,), eps=1e-06, elementwise_affine=True)\n",
       "      (mlp): Mlp(\n",
       "        (fc1): Linear(in_features=768, out_features=3072, bias=True)\n",
       "        (act): GELU()\n",
       "        (drop1): Dropout(p=0.0, inplace=False)\n",
       "        (fc2): Linear(in_features=3072, out_features=768, bias=True)\n",
       "        (drop2): Dropout(p=0.0, inplace=False)\n",
       "      )\n",
       "    )\n",
       "    (11): Block(\n",
       "      (norm1): LayerNorm((768,), eps=1e-06, elementwise_affine=True)\n",
       "      (attn): Attention(\n",
       "        (qkv): Linear(in_features=768, out_features=2304, bias=True)\n",
       "        (attn_drop): Dropout(p=0.0, inplace=False)\n",
       "        (proj): Linear(in_features=768, out_features=768, bias=True)\n",
       "        (proj_drop): Dropout(p=0.0, inplace=False)\n",
       "      )\n",
       "      (drop_path): Identity()\n",
       "      (norm2): LayerNorm((768,), eps=1e-06, elementwise_affine=True)\n",
       "      (mlp): Mlp(\n",
       "        (fc1): Linear(in_features=768, out_features=3072, bias=True)\n",
       "        (act): GELU()\n",
       "        (drop1): Dropout(p=0.0, inplace=False)\n",
       "        (fc2): Linear(in_features=3072, out_features=768, bias=True)\n",
       "        (drop2): Dropout(p=0.0, inplace=False)\n",
       "      )\n",
       "    )\n",
       "  )\n",
       "  (norm): LayerNorm((768,), eps=1e-06, elementwise_affine=True)\n",
       "  (pre_logits): Identity()\n",
       "  (head): Linear(in_features=768, out_features=1000, bias=True)\n",
       ")"
      ]
     },
     "execution_count": 26,
     "metadata": {},
     "output_type": "execute_result"
    }
   ],
   "source": [
    "model_cnn = timm.create_model(cfg.cnn_name, pretrained=True)\n",
    "model_vit = timm.create_model(cfg.vit_name, pretrained=True)\n",
    "model_cnn.to(device)\n",
    "model_vit.to(device)"
   ]
  },
  {
   "cell_type": "code",
   "execution_count": 27,
   "metadata": {},
   "outputs": [],
   "source": [
    "def ssl_train_model(train_loader,model_vit,criterion_vit,optimizer_vit,scheduler_vit,model_cnn,criterion_cnn,optimizer_cnn,scheduler_cnn,num_epochs):\n",
    "    writer = SummaryWriter()\n",
    "    phase = 'train'\n",
    "    model_cnn.train()\n",
    "    model_vit.train()\n",
    "    f1_score_cnn=0\n",
    "    f1_score_vit=0\n",
    "    for i in tqdm(range(num_epochs)):\n",
    "        with torch.set_grad_enabled(phase == 'train'):\n",
    "            for img,_ in train_loader:\n",
    "                f1_score_cnn=0\n",
    "                f1_score_vit=0\n",
    "                img = img.to(device)\n",
    "                pred_vit = model_vit(img)\n",
    "                pred_cnn = model_cnn(img)\n",
    "                model_sim_loss=loss_fn(pred_vit,pred_cnn)\n",
    "                loss = model_sim_loss.mean()\n",
    "                loss.backward()\n",
    "                optimizer_cnn.step()\n",
    "                optimizer_vit.step()\n",
    "                scheduler_cnn.step()\n",
    "                scheduler_vit.step()\n",
    "            print('For -',i,'Loss:',loss) \n",
    "            writer.add_scalar(\"Self-Supervised Loss/train\", loss, i)\n",
    "    writer.flush()"
   ]
  },
  {
   "cell_type": "code",
   "execution_count": 28,
   "metadata": {},
   "outputs": [],
   "source": [
    "optimizer_cnn = SWA(torch.optim.Adam(model_cnn.parameters(), lr= 1e-3))\n",
    "optimizer_vit = SWA(torch.optim.Adam(model_vit.parameters(), lr= 1e-3))\n",
    "scheduler_cnn = torch.optim.lr_scheduler.CosineAnnealingLR(optimizer_cnn,\n",
    "                                                                    T_max=16,\n",
    "                                                                    eta_min=1e-6)\n",
    "scheduler_vit = torch.optim.lr_scheduler.CosineAnnealingLR(optimizer_vit,\n",
    "                                                                    T_max=16,\n",
    "                                                                    eta_min=1e-6)\n",
    "\n",
    "criterion_vit = FocalLoss(cfg.fl_alpha, cfg.fl_gamma)\n",
    "criterion_cnn = FocalLoss(cfg.fl_alpha, cfg.fl_gamma)"
   ]
  },
  {
   "attachments": {
    "image-2.png": {
     "image/png": "[encoded data removed]"
    }
   },
   "cell_type": "markdown",
   "metadata": {},
   "source": [
    "![image-2.png](attachment:image-2.png)"
   ]
  },
  {
   "cell_type": "markdown",
   "metadata": {},
   "source": [
    "The loss_fn here is the most important element. R and T represent embeddings from CNN and Transformer, respectively."
   ]
  },
  {
   "cell_type": "code",
   "execution_count": 29,
   "metadata": {},
   "outputs": [],
   "source": [
    "def loss_fn(x, y):\n",
    "    x =  torch.nn.functional.normalize(x, dim=-1, p=2)\n",
    "    y =  torch.nn.functional.normalize(y, dim=-1, p=2)\n",
    "    return 2 - 2 * (x * y).sum(dim=-1)"
   ]
  },
  {
   "cell_type": "code",
   "execution_count": 30,
   "metadata": {},
   "outputs": [],
   "source": [
    "import random\n",
    "random.seed(77)\n",
    "x=1 #currently set to use 10% of the labels for reduced label training \n",
    "onep=random.sample(range(0, len(X_train)), int(len(X_train)*x))\n",
    "all_img_names_train = [all_img_names[idx] for idx in onep]\n",
    "all_img_labels_ts_train = [all_img_labels_ts[idx] for idx in onep]"
   ]
  },
  {
   "cell_type": "code",
   "execution_count": 31,
   "metadata": {},
   "outputs": [
    {
     "data": {
      "text/plain": [
       "4569"
      ]
     },
     "execution_count": 31,
     "metadata": {},
     "output_type": "execute_result"
    }
   ],
   "source": [
    "len(all_img_names_train)"
   ]
  },
  {
   "cell_type": "code",
   "execution_count": 32,
   "metadata": {},
   "outputs": [],
   "source": [
    "train_dataset = Dataset(CFG, all_img_names_train,all_img_labels_ts_train, train_transform)\n",
    "valid_dataset = Dataset(CFG, all_img_names_valid, all_img_labels_val_ts, valid_transform)\n",
    "train_loader = DataLoader(train_dataset, batch_size=CFG.batch_size, shuffle=True, num_workers=CFG.num_workers)\n",
    "valid_loader = DataLoader(valid_dataset, batch_size=CFG.batch_size, shuffle=False, num_workers=CFG.num_workers)"
   ]
  },
  {
   "cell_type": "code",
   "execution_count": 33,
   "metadata": {},
   "outputs": [
    {
     "data": {
      "text/plain": [
       "1143"
      ]
     },
     "execution_count": 33,
     "metadata": {},
     "output_type": "execute_result"
    }
   ],
   "source": [
    "len(valid_dataset)"
   ]
  },
  {
   "cell_type": "code",
   "execution_count": 34,
   "metadata": {},
   "outputs": [
    {
     "data": {
      "text/plain": [
       "4569"
      ]
     },
     "execution_count": 34,
     "metadata": {},
     "output_type": "execute_result"
    }
   ],
   "source": [
    "len(train_dataset)"
   ]
  },
  {
   "cell_type": "markdown",
   "metadata": {},
   "source": [
    "# Training (Pretraining)\n",
    "## Parameters \n",
    "* Learning Rate: 1e-3\n",
    "* Batch size 16\n",
    "* For the learning rate, we use a cosine schedule with a maximum\n",
    "of 16 iterations and a minimum value of 1e-6.\n",
    "## Computational requirements\n",
    "* The hardware we are using is 1 x NVIDIA V100\n",
    "* Each epoch would run approximately 3 minutes\n",
    "* The number of epochs is usually 100. With ablation studies, we also ran for 50 and 200 epochs "
   ]
  },
  {
   "cell_type": "markdown",
   "metadata": {},
   "source": [
    "ssl_train_model will return two models (one CNN one Vit) for futurue fine tuning, while DINO only returns one"
   ]
  },
  {
   "cell_type": "code",
   "execution_count": null,
   "metadata": {},
   "outputs": [
    {
     "name": "stdout",
     "output_type": "stream",
     "text": [
      "Training Cov-T\n"
     ]
    },
    {
     "name": "stderr",
     "output_type": "stream",
     "text": [
      "  1%|▋                                                                      | 1/100 [03:14<5:21:08, 194.63s/it]"
     ]
    },
    {
     "name": "stdout",
     "output_type": "stream",
     "text": [
      "For - 0 Loss: tensor(0.0047, device='cuda:0', grad_fn=<MeanBackward0>)\n"
     ]
    },
    {
     "name": "stderr",
     "output_type": "stream",
     "text": [
      "\r\n",
      "  2%|█▍                                                                     | 2/100 [06:28<5:17:18, 194.27s/it]"
     ]
    },
    {
     "name": "stdout",
     "output_type": "stream",
     "text": [
      "For - 1 Loss: tensor(0.0029, device='cuda:0', grad_fn=<MeanBackward0>)\n"
     ]
    },
    {
     "name": "stderr",
     "output_type": "stream",
     "text": [
      "\r\n",
      "  3%|██▏                                                                    | 3/100 [09:42<5:13:25, 193.88s/it]"
     ]
    },
    {
     "name": "stdout",
     "output_type": "stream",
     "text": [
      "For - 2 Loss: tensor(0.0022, device='cuda:0', grad_fn=<MeanBackward0>)\n"
     ]
    },
    {
     "name": "stderr",
     "output_type": "stream",
     "text": [
      "\r\n",
      "  4%|██▊                                                                    | 4/100 [12:55<5:09:38, 193.52s/it]"
     ]
    },
    {
     "name": "stdout",
     "output_type": "stream",
     "text": [
      "For - 3 Loss: tensor(0.0015, device='cuda:0', grad_fn=<MeanBackward0>)\n"
     ]
    },
    {
     "name": "stderr",
     "output_type": "stream",
     "text": [
      "\r\n",
      "  5%|███▌                                                                   | 5/100 [16:07<5:05:48, 193.14s/it]"
     ]
    },
    {
     "name": "stdout",
     "output_type": "stream",
     "text": [
      "For - 4 Loss: tensor(0.0011, device='cuda:0', grad_fn=<MeanBackward0>)\n"
     ]
    },
    {
     "name": "stderr",
     "output_type": "stream",
     "text": [
      "\r\n",
      "  6%|████▎                                                                  | 6/100 [19:19<5:01:54, 192.70s/it]"
     ]
    },
    {
     "name": "stdout",
     "output_type": "stream",
     "text": [
      "For - 5 Loss: tensor(0.0008, device='cuda:0', grad_fn=<MeanBackward0>)\n"
     ]
    },
    {
     "name": "stderr",
     "output_type": "stream",
     "text": [
      "\r\n",
      "  7%|████▉                                                                  | 7/100 [22:31<4:58:11, 192.38s/it]"
     ]
    },
    {
     "name": "stdout",
     "output_type": "stream",
     "text": [
      "For - 6 Loss: tensor(0.0004, device='cuda:0', grad_fn=<MeanBackward0>)\n"
     ]
    },
    {
     "name": "stderr",
     "output_type": "stream",
     "text": [
      "\r\n",
      "  8%|█████▋                                                                 | 8/100 [25:42<4:54:35, 192.12s/it]"
     ]
    },
    {
     "name": "stdout",
     "output_type": "stream",
     "text": [
      "For - 7 Loss: tensor(0.0004, device='cuda:0', grad_fn=<MeanBackward0>)\n"
     ]
    },
    {
     "name": "stderr",
     "output_type": "stream",
     "text": [
      "\r\n",
      "  9%|██████▍                                                                | 9/100 [28:54<4:51:10, 191.98s/it]"
     ]
    },
    {
     "name": "stdout",
     "output_type": "stream",
     "text": [
      "For - 8 Loss: tensor(0.0003, device='cuda:0', grad_fn=<MeanBackward0>)\n"
     ]
    },
    {
     "name": "stderr",
     "output_type": "stream",
     "text": [
      "\r\n",
      " 10%|███████                                                               | 10/100 [32:06<4:48:01, 192.02s/it]"
     ]
    },
    {
     "name": "stdout",
     "output_type": "stream",
     "text": [
      "For - 9 Loss: tensor(0.0002, device='cuda:0', grad_fn=<MeanBackward0>)\n"
     ]
    },
    {
     "name": "stderr",
     "output_type": "stream",
     "text": [
      "\r\n",
      " 11%|███████▋                                                              | 11/100 [35:18<4:44:53, 192.06s/it]"
     ]
    },
    {
     "name": "stdout",
     "output_type": "stream",
     "text": [
      "For - 10 Loss: tensor(0.0002, device='cuda:0', grad_fn=<MeanBackward0>)\n"
     ]
    },
    {
     "name": "stderr",
     "output_type": "stream",
     "text": [
      "\r\n",
      " 12%|████████▍                                                             | 12/100 [38:30<4:41:39, 192.04s/it]"
     ]
    },
    {
     "name": "stdout",
     "output_type": "stream",
     "text": [
      "For - 11 Loss: tensor(0.0001, device='cuda:0', grad_fn=<MeanBackward0>)\n"
     ]
    },
    {
     "name": "stderr",
     "output_type": "stream",
     "text": [
      "\r\n",
      " 13%|█████████                                                             | 13/100 [41:42<4:38:17, 191.93s/it]"
     ]
    },
    {
     "name": "stdout",
     "output_type": "stream",
     "text": [
      "For - 12 Loss: tensor(0.0001, device='cuda:0', grad_fn=<MeanBackward0>)\n"
     ]
    },
    {
     "name": "stderr",
     "output_type": "stream",
     "text": [
      "\r\n",
      " 14%|█████████▊                                                            | 14/100 [44:53<4:34:46, 191.71s/it]"
     ]
    },
    {
     "name": "stdout",
     "output_type": "stream",
     "text": [
      "For - 13 Loss: tensor(9.8811e-05, device='cuda:0', grad_fn=<MeanBackward0>)\n"
     ]
    },
    {
     "name": "stderr",
     "output_type": "stream",
     "text": [
      "\r\n",
      " 15%|██████████▌                                                           | 15/100 [48:04<4:31:11, 191.42s/it]"
     ]
    },
    {
     "name": "stdout",
     "output_type": "stream",
     "text": [
      "For - 14 Loss: tensor(7.6466e-05, device='cuda:0', grad_fn=<MeanBackward0>)\n"
     ]
    },
    {
     "name": "stderr",
     "output_type": "stream",
     "text": [
      "\r\n",
      " 16%|███████████▏                                                          | 16/100 [51:15<4:27:44, 191.24s/it]"
     ]
    },
    {
     "name": "stdout",
     "output_type": "stream",
     "text": [
      "For - 15 Loss: tensor(5.4651e-05, device='cuda:0', grad_fn=<MeanBackward0>)\n"
     ]
    },
    {
     "name": "stderr",
     "output_type": "stream",
     "text": [
      "\r\n",
      " 17%|███████████▉                                                          | 17/100 [54:25<4:24:21, 191.10s/it]"
     ]
    },
    {
     "name": "stdout",
     "output_type": "stream",
     "text": [
      "For - 16 Loss: tensor(5.8333e-05, device='cuda:0', grad_fn=<MeanBackward0>)\n"
     ]
    },
    {
     "name": "stderr",
     "output_type": "stream",
     "text": [
      "\r\n",
      " 18%|████████████▌                                                         | 18/100 [57:36<4:21:05, 191.05s/it]"
     ]
    },
    {
     "name": "stdout",
     "output_type": "stream",
     "text": [
      "For - 17 Loss: tensor(3.8730e-05, device='cuda:0', grad_fn=<MeanBackward0>)\n"
     ]
    },
    {
     "name": "stderr",
     "output_type": "stream",
     "text": [
      "\r\n",
      " 19%|████████████▉                                                       | 19/100 [1:00:47<4:17:54, 191.04s/it]"
     ]
    },
    {
     "name": "stdout",
     "output_type": "stream",
     "text": [
      "For - 18 Loss: tensor(3.7273e-05, device='cuda:0', grad_fn=<MeanBackward0>)\n"
     ]
    },
    {
     "name": "stderr",
     "output_type": "stream",
     "text": [
      "\r\n",
      " 20%|█████████████▌                                                      | 20/100 [1:03:58<4:14:41, 191.02s/it]"
     ]
    },
    {
     "name": "stdout",
     "output_type": "stream",
     "text": [
      "For - 19 Loss: tensor(2.4875e-05, device='cuda:0', grad_fn=<MeanBackward0>)\n"
     ]
    },
    {
     "name": "stderr",
     "output_type": "stream",
     "text": [
      "\r\n",
      " 21%|██████████████▎                                                     | 21/100 [1:07:09<4:11:28, 191.00s/it]"
     ]
    },
    {
     "name": "stdout",
     "output_type": "stream",
     "text": [
      "For - 20 Loss: tensor(1.8650e-05, device='cuda:0', grad_fn=<MeanBackward0>)\n"
     ]
    },
    {
     "name": "stderr",
     "output_type": "stream",
     "text": [
      "\r\n",
      " 22%|██████████████▉                                                     | 22/100 [1:10:20<4:08:10, 190.91s/it]"
     ]
    },
    {
     "name": "stdout",
     "output_type": "stream",
     "text": [
      "For - 21 Loss: tensor(1.9617e-05, device='cuda:0', grad_fn=<MeanBackward0>)\n"
     ]
    },
    {
     "name": "stderr",
     "output_type": "stream",
     "text": [
      "\r\n",
      " 23%|███████████████▋                                                    | 23/100 [1:13:30<4:04:52, 190.81s/it]"
     ]
    },
    {
     "name": "stdout",
     "output_type": "stream",
     "text": [
      "For - 22 Loss: tensor(1.5789e-05, device='cuda:0', grad_fn=<MeanBackward0>)\n"
     ]
    },
    {
     "name": "stderr",
     "output_type": "stream",
     "text": [
      "\r\n",
      " 24%|████████████████▎                                                   | 24/100 [1:16:41<4:01:35, 190.73s/it]"
     ]
    },
    {
     "name": "stdout",
     "output_type": "stream",
     "text": [
      "For - 23 Loss: tensor(1.4557e-05, device='cuda:0', grad_fn=<MeanBackward0>)\n"
     ]
    },
    {
     "name": "stderr",
     "output_type": "stream",
     "text": [
      "\r\n",
      " 25%|█████████████████                                                   | 25/100 [1:19:52<3:58:20, 190.67s/it]"
     ]
    },
    {
     "name": "stdout",
     "output_type": "stream",
     "text": [
      "For - 24 Loss: tensor(1.0928e-05, device='cuda:0', grad_fn=<MeanBackward0>)\n"
     ]
    },
    {
     "name": "stderr",
     "output_type": "stream",
     "text": [
      "\r\n",
      " 26%|█████████████████▋                                                  | 26/100 [1:23:02<3:55:07, 190.64s/it]"
     ]
    },
    {
     "name": "stdout",
     "output_type": "stream",
     "text": [
      "For - 25 Loss: tensor(3.3882e-05, device='cuda:0', grad_fn=<MeanBackward0>)\n"
     ]
    },
    {
     "name": "stderr",
     "output_type": "stream",
     "text": [
      "\r\n",
      " 27%|██████████████████▎                                                 | 27/100 [1:26:13<3:51:53, 190.59s/it]"
     ]
    },
    {
     "name": "stdout",
     "output_type": "stream",
     "text": [
      "For - 26 Loss: tensor(6.8347e-06, device='cuda:0', grad_fn=<MeanBackward0>)\n"
     ]
    },
    {
     "name": "stderr",
     "output_type": "stream",
     "text": [
      "\r\n",
      " 28%|███████████████████                                                 | 28/100 [1:29:23<3:48:40, 190.56s/it]"
     ]
    },
    {
     "name": "stdout",
     "output_type": "stream",
     "text": [
      "For - 27 Loss: tensor(5.9605e-06, device='cuda:0', grad_fn=<MeanBackward0>)\n"
     ]
    },
    {
     "name": "stderr",
     "output_type": "stream",
     "text": [
      "\r\n",
      " 29%|███████████████████▋                                                | 29/100 [1:32:34<3:45:27, 190.53s/it]"
     ]
    },
    {
     "name": "stdout",
     "output_type": "stream",
     "text": [
      "For - 28 Loss: tensor(5.2717e-06, device='cuda:0', grad_fn=<MeanBackward0>)\n"
     ]
    },
    {
     "name": "stderr",
     "output_type": "stream",
     "text": [
      "\r\n",
      " 30%|████████████████████▍                                               | 30/100 [1:35:44<3:42:15, 190.51s/it]"
     ]
    },
    {
     "name": "stdout",
     "output_type": "stream",
     "text": [
      "For - 29 Loss: tensor(4.0531e-06, device='cuda:0', grad_fn=<MeanBackward0>)\n"
     ]
    },
    {
     "name": "stderr",
     "output_type": "stream",
     "text": [
      "\r\n",
      " 31%|█████████████████████                                               | 31/100 [1:38:54<3:39:04, 190.50s/it]"
     ]
    },
    {
     "name": "stdout",
     "output_type": "stream",
     "text": [
      "For - 30 Loss: tensor(3.3776e-06, device='cuda:0', grad_fn=<MeanBackward0>)\n"
     ]
    },
    {
     "name": "stderr",
     "output_type": "stream",
     "text": [
      "\r\n",
      " 32%|█████████████████████▊                                              | 32/100 [1:42:05<3:35:53, 190.50s/it]"
     ]
    },
    {
     "name": "stdout",
     "output_type": "stream",
     "text": [
      "For - 31 Loss: tensor(3.2981e-06, device='cuda:0', grad_fn=<MeanBackward0>)\n"
     ]
    },
    {
     "name": "stderr",
     "output_type": "stream",
     "text": [
      "\r\n",
      " 33%|██████████████████████▍                                             | 33/100 [1:45:15<3:32:43, 190.51s/it]"
     ]
    },
    {
     "name": "stdout",
     "output_type": "stream",
     "text": [
      "For - 32 Loss: tensor(2.6491e-06, device='cuda:0', grad_fn=<MeanBackward0>)\n"
     ]
    },
    {
     "name": "stderr",
     "output_type": "stream",
     "text": [
      "\r\n",
      " 34%|███████████████████████                                             | 34/100 [1:48:26<3:29:33, 190.50s/it]"
     ]
    },
    {
     "name": "stdout",
     "output_type": "stream",
     "text": [
      "For - 33 Loss: tensor(2.1458e-06, device='cuda:0', grad_fn=<MeanBackward0>)\n"
     ]
    },
    {
     "name": "stderr",
     "output_type": "stream",
     "text": [
      "\r\n",
      " 35%|███████████████████████▊                                            | 35/100 [1:51:36<3:26:22, 190.51s/it]"
     ]
    },
    {
     "name": "stdout",
     "output_type": "stream",
     "text": [
      "For - 34 Loss: tensor(9.3778e-06, device='cuda:0', grad_fn=<MeanBackward0>)\n"
     ]
    },
    {
     "name": "stderr",
     "output_type": "stream",
     "text": [
      "\r\n",
      " 36%|████████████████████████▍                                           | 36/100 [1:54:47<3:23:11, 190.49s/it]"
     ]
    },
    {
     "name": "stdout",
     "output_type": "stream",
     "text": [
      "For - 35 Loss: tensor(4.3710e-06, device='cuda:0', grad_fn=<MeanBackward0>)\n"
     ]
    },
    {
     "name": "stderr",
     "output_type": "stream",
     "text": [
      "\r\n",
      " 37%|█████████████████████████▏                                          | 37/100 [1:57:57<3:19:57, 190.44s/it]"
     ]
    },
    {
     "name": "stdout",
     "output_type": "stream",
     "text": [
      "For - 36 Loss: tensor(2.8875e-06, device='cuda:0', grad_fn=<MeanBackward0>)\n"
     ]
    },
    {
     "name": "stderr",
     "output_type": "stream",
     "text": [
      "\r\n",
      " 38%|█████████████████████████▊                                          | 38/100 [2:01:08<3:16:46, 190.42s/it]"
     ]
    },
    {
     "name": "stdout",
     "output_type": "stream",
     "text": [
      "For - 37 Loss: tensor(2.0928e-06, device='cuda:0', grad_fn=<MeanBackward0>)\n"
     ]
    },
    {
     "name": "stderr",
     "output_type": "stream",
     "text": [
      "\r\n",
      " 39%|██████████████████████████▌                                         | 39/100 [2:04:18<3:13:35, 190.42s/it]"
     ]
    },
    {
     "name": "stdout",
     "output_type": "stream",
     "text": [
      "For - 38 Loss: tensor(1.4438e-06, device='cuda:0', grad_fn=<MeanBackward0>)\n"
     ]
    },
    {
     "name": "stderr",
     "output_type": "stream",
     "text": [
      "\r\n",
      " 40%|███████████████████████████▏                                        | 40/100 [2:07:28<3:10:24, 190.41s/it]"
     ]
    },
    {
     "name": "stdout",
     "output_type": "stream",
     "text": [
      "For - 39 Loss: tensor(2.1060e-06, device='cuda:0', grad_fn=<MeanBackward0>)\n"
     ]
    },
    {
     "name": "stderr",
     "output_type": "stream",
     "text": [
      "\r\n",
      " 41%|███████████████████████████▉                                        | 41/100 [2:10:39<3:07:14, 190.41s/it]"
     ]
    },
    {
     "name": "stdout",
     "output_type": "stream",
     "text": [
      "For - 40 Loss: tensor(1.6424e-06, device='cuda:0', grad_fn=<MeanBackward0>)\n"
     ]
    },
    {
     "name": "stderr",
     "output_type": "stream",
     "text": [
      "\r\n",
      " 42%|████████████████████████████▌                                       | 42/100 [2:13:49<3:04:03, 190.41s/it]"
     ]
    },
    {
     "name": "stdout",
     "output_type": "stream",
     "text": [
      "For - 41 Loss: tensor(1.3245e-06, device='cuda:0', grad_fn=<MeanBackward0>)\n"
     ]
    },
    {
     "name": "stderr",
     "output_type": "stream",
     "text": [
      "\r\n",
      " 43%|█████████████████████████████▏                                      | 43/100 [2:17:00<3:00:53, 190.41s/it]"
     ]
    },
    {
     "name": "stdout",
     "output_type": "stream",
     "text": [
      "For - 42 Loss: tensor(2.1325e-06, device='cuda:0', grad_fn=<MeanBackward0>)\n"
     ]
    },
    {
     "name": "stderr",
     "output_type": "stream",
     "text": [
      "\r\n",
      " 44%|█████████████████████████████▉                                      | 44/100 [2:20:10<2:57:42, 190.41s/it]"
     ]
    },
    {
     "name": "stdout",
     "output_type": "stream",
     "text": [
      "For - 43 Loss: tensor(1.3908e-06, device='cuda:0', grad_fn=<MeanBackward0>)\n"
     ]
    },
    {
     "name": "stderr",
     "output_type": "stream",
     "text": [
      "\r\n",
      " 45%|██████████████████████████████▌                                     | 45/100 [2:23:20<2:54:31, 190.38s/it]"
     ]
    },
    {
     "name": "stdout",
     "output_type": "stream",
     "text": [
      "For - 44 Loss: tensor(1.3245e-06, device='cuda:0', grad_fn=<MeanBackward0>)\n"
     ]
    },
    {
     "name": "stderr",
     "output_type": "stream",
     "text": [
      "\r\n",
      " 46%|███████████████████████████████▎                                    | 46/100 [2:26:31<2:51:21, 190.39s/it]"
     ]
    },
    {
     "name": "stdout",
     "output_type": "stream",
     "text": [
      "For - 45 Loss: tensor(1.3643e-06, device='cuda:0', grad_fn=<MeanBackward0>)\n"
     ]
    },
    {
     "name": "stderr",
     "output_type": "stream",
     "text": [
      "\r\n",
      " 47%|███████████████████████████████▉                                    | 47/100 [2:29:41<2:48:11, 190.40s/it]"
     ]
    },
    {
     "name": "stdout",
     "output_type": "stream",
     "text": [
      "For - 46 Loss: tensor(1.7616e-06, device='cuda:0', grad_fn=<MeanBackward0>)\n"
     ]
    },
    {
     "name": "stderr",
     "output_type": "stream",
     "text": [
      "\r\n",
      " 48%|████████████████████████████████▋                                   | 48/100 [2:32:52<2:45:00, 190.40s/it]"
     ]
    },
    {
     "name": "stdout",
     "output_type": "stream",
     "text": [
      "For - 47 Loss: tensor(1.2451e-06, device='cuda:0', grad_fn=<MeanBackward0>)\n"
     ]
    },
    {
     "name": "stderr",
     "output_type": "stream",
     "text": [
      "\r\n",
      " 49%|█████████████████████████████████▎                                  | 49/100 [2:36:02<2:41:50, 190.40s/it]"
     ]
    },
    {
     "name": "stdout",
     "output_type": "stream",
     "text": [
      "For - 48 Loss: tensor(1.2716e-06, device='cuda:0', grad_fn=<MeanBackward0>)\n"
     ]
    },
    {
     "name": "stderr",
     "output_type": "stream",
     "text": [
      "\r\n",
      " 50%|██████████████████████████████████                                  | 50/100 [2:39:12<2:38:38, 190.36s/it]"
     ]
    },
    {
     "name": "stdout",
     "output_type": "stream",
     "text": [
      "For - 49 Loss: tensor(1.1259e-06, device='cuda:0', grad_fn=<MeanBackward0>)\n"
     ]
    },
    {
     "name": "stderr",
     "output_type": "stream",
     "text": [
      "\r\n",
      " 51%|██████████████████████████████████▋                                 | 51/100 [2:42:23<2:35:31, 190.43s/it]"
     ]
    },
    {
     "name": "stdout",
     "output_type": "stream",
     "text": [
      "For - 50 Loss: tensor(1.1656e-06, device='cuda:0', grad_fn=<MeanBackward0>)\n"
     ]
    },
    {
     "name": "stderr",
     "output_type": "stream",
     "text": [
      "\r\n",
      " 52%|███████████████████████████████████▎                                | 52/100 [2:45:33<2:32:19, 190.40s/it]"
     ]
    },
    {
     "name": "stdout",
     "output_type": "stream",
     "text": [
      "For - 51 Loss: tensor(1.3113e-06, device='cuda:0', grad_fn=<MeanBackward0>)\n"
     ]
    },
    {
     "name": "stderr",
     "output_type": "stream",
     "text": [
      "\r\n",
      " 53%|████████████████████████████████████                                | 53/100 [2:48:44<2:29:08, 190.38s/it]"
     ]
    },
    {
     "name": "stdout",
     "output_type": "stream",
     "text": [
      "For - 52 Loss: tensor(1.4305e-06, device='cuda:0', grad_fn=<MeanBackward0>)\n"
     ]
    },
    {
     "name": "stderr",
     "output_type": "stream",
     "text": [
      "\r\n",
      " 54%|████████████████████████████████████▋                               | 54/100 [2:51:54<2:25:57, 190.37s/it]"
     ]
    },
    {
     "name": "stdout",
     "output_type": "stream",
     "text": [
      "For - 53 Loss: tensor(8.6096e-07, device='cuda:0', grad_fn=<MeanBackward0>)\n"
     ]
    },
    {
     "name": "stderr",
     "output_type": "stream",
     "text": [
      "\r\n",
      " 55%|█████████████████████████████████████▍                              | 55/100 [2:55:04<2:22:47, 190.40s/it]"
     ]
    },
    {
     "name": "stdout",
     "output_type": "stream",
     "text": [
      "For - 54 Loss: tensor(1.5232e-06, device='cuda:0', grad_fn=<MeanBackward0>)\n"
     ]
    },
    {
     "name": "stderr",
     "output_type": "stream",
     "text": [
      "\r\n",
      " 56%|██████████████████████████████████████                              | 56/100 [2:58:15<2:19:37, 190.39s/it]"
     ]
    },
    {
     "name": "stdout",
     "output_type": "stream",
     "text": [
      "For - 55 Loss: tensor(9.1394e-07, device='cuda:0', grad_fn=<MeanBackward0>)\n"
     ]
    },
    {
     "name": "stderr",
     "output_type": "stream",
     "text": [
      "\r\n",
      " 57%|██████████████████████████████████████▊                             | 57/100 [3:01:25<2:16:24, 190.35s/it]"
     ]
    },
    {
     "name": "stdout",
     "output_type": "stream",
     "text": [
      "For - 56 Loss: tensor(1.6424e-06, device='cuda:0', grad_fn=<MeanBackward0>)\n"
     ]
    },
    {
     "name": "stderr",
     "output_type": "stream",
     "text": [
      "\r\n",
      " 58%|███████████████████████████████████████▍                            | 58/100 [3:04:35<2:13:12, 190.30s/it]"
     ]
    },
    {
     "name": "stdout",
     "output_type": "stream",
     "text": [
      "For - 57 Loss: tensor(8.3447e-07, device='cuda:0', grad_fn=<MeanBackward0>)\n"
     ]
    },
    {
     "name": "stderr",
     "output_type": "stream",
     "text": [
      "\r\n",
      " 59%|████████████████████████████████████████                            | 59/100 [3:07:46<2:10:02, 190.31s/it]"
     ]
    },
    {
     "name": "stdout",
     "output_type": "stream",
     "text": [
      "For - 58 Loss: tensor(1.0861e-06, device='cuda:0', grad_fn=<MeanBackward0>)\n"
     ]
    },
    {
     "name": "stderr",
     "output_type": "stream",
     "text": [
      "\r\n",
      " 60%|████████████████████████████████████████▊                           | 60/100 [3:10:56<2:06:52, 190.32s/it]"
     ]
    },
    {
     "name": "stdout",
     "output_type": "stream",
     "text": [
      "For - 59 Loss: tensor(1.2318e-06, device='cuda:0', grad_fn=<MeanBackward0>)\n"
     ]
    },
    {
     "name": "stderr",
     "output_type": "stream",
     "text": [
      "\r\n",
      " 61%|█████████████████████████████████████████▍                          | 61/100 [3:14:06<2:03:42, 190.32s/it]"
     ]
    },
    {
     "name": "stdout",
     "output_type": "stream",
     "text": [
      "For - 60 Loss: tensor(1.1391e-06, device='cuda:0', grad_fn=<MeanBackward0>)\n"
     ]
    },
    {
     "name": "stderr",
     "output_type": "stream",
     "text": [
      "\r\n",
      " 62%|██████████████████████████████████████████▏                         | 62/100 [3:17:16<2:00:31, 190.31s/it]"
     ]
    },
    {
     "name": "stdout",
     "output_type": "stream",
     "text": [
      "For - 61 Loss: tensor(8.2122e-07, device='cuda:0', grad_fn=<MeanBackward0>)\n"
     ]
    }
   ],
   "source": [
    "#Train SSL\n",
    "print('Training Cov-T')\n",
    "#Change Epoche Here\n",
    "ssl_train_model(train_loader,model_vit,criterion_vit,optimizer_vit,scheduler_vit,model_cnn,criterion_cnn,optimizer_cnn,scheduler_cnn,num_epochs=100)\n",
    "#Saving SSL Models\n",
    "print('Saving Cov-T')\n",
    "torch.save(model_cnn,'./cass-CNN-100epoch-16batch-pretraining.pt')\n",
    "torch.save(model_vit,'./cass-VIT-100epoch-16batch-pretraining.pt')"
   ]
  },
  {
   "cell_type": "markdown",
   "metadata": {},
   "source": [
    "# Training (Fine-tuning)\n",
    "## Parameters \n",
    "* Learning Rate: 3e-4\n",
    "* Batch size 16\n",
    "* For the learning rate, we use a cosine schedule with a maximum\n",
    "of 16 iterations and a minimum value of 1e-6.\n",
    "## Computational requirements\n",
    "* The hardware we are using is 1 x NVIDIA V100\n",
    "* The fine-tuning for each model would take approximately 2 hours (Vit and CNN) to ran\n",
    "* The number of epochs is 50. This number was hold constant for both epoch and batch size ablation study   "
   ]
  },
  {
   "cell_type": "code",
   "execution_count": 35,
   "metadata": {},
   "outputs": [],
   "source": [
    "model_cnn=torch.load('cass-CNN-100epoch-16batch-pretraining.pt')\n",
    "model_vit=torch.load('cass-VIT-100epoch-16batch-pretraining.pt')"
   ]
  },
  {
   "cell_type": "code",
   "execution_count": 35,
   "metadata": {},
   "outputs": [
    {
     "name": "stdout",
     "output_type": "stream",
     "text": [
      "Fine tunning Cov-T\n",
      "{'train_loss': tensor(0.0657, device='cuda:0', grad_fn=<MeanBackward0>), 'Recall': tensor(0.3648), 'lr': 0.0002886199901104358}\n",
      "Val Loss: tensor(0.0264, device='cuda:0')\n",
      "CNN Validation Score: tensor(0.4062)\n",
      "Saving\n",
      "{'train_loss': tensor(0.0753, device='cuda:0', grad_fn=<MeanBackward0>), 'Recall': tensor(0.4215), 'lr': 0.0002562124637873931}\n",
      "Val Loss: tensor(0.0397, device='cuda:0')\n",
      "CNN Validation Score: tensor(0.4070)\n",
      "Saving\n",
      "{'train_loss': tensor(0.1293, device='cuda:0', grad_fn=<MeanBackward0>), 'Recall': tensor(0.4616), 'lr': 0.00020771117313860425}\n",
      "Val Loss: tensor(0.0114, device='cuda:0')\n",
      "CNN Validation Score: tensor(0.4548)\n",
      "Saving\n",
      "{'train_loss': tensor(0.0967, device='cuda:0', grad_fn=<MeanBackward0>), 'Recall': tensor(0.4776), 'lr': 0.00015050000000000813}\n",
      "Val Loss: tensor(0.0203, device='cuda:0')\n",
      "CNN Validation Score: tensor(0.4600)\n",
      "Saving\n",
      "{'train_loss': tensor(0.0599, device='cuda:0', grad_fn=<MeanBackward0>), 'Recall': tensor(0.4966), 'lr': 9.328882686144916e-05}\n",
      "Val Loss: tensor(0.0109, device='cuda:0')\n",
      "CNN Validation Score: tensor(0.5050)\n",
      "Saving\n",
      "{'train_loss': tensor(0.0508, device='cuda:0', grad_fn=<MeanBackward0>), 'Recall': tensor(0.5134), 'lr': 4.478753621261033e-05}\n",
      "Val Loss: tensor(0.0086, device='cuda:0')\n",
      "CNN Validation Score: tensor(0.5466)\n",
      "Saving\n",
      "{'train_loss': tensor(0.0167, device='cuda:0', grad_fn=<MeanBackward0>), 'Recall': tensor(0.5262), 'lr': 1.2380009889564934e-05}\n",
      "Val Loss: tensor(0.0127, device='cuda:0')\n",
      "CNN Validation Score: tensor(0.5752)\n",
      "Saving\n",
      "{'train_loss': tensor(0.0856, device='cuda:0', grad_fn=<MeanBackward0>), 'Recall': tensor(0.5368), 'lr': 1e-06}\n",
      "Val Loss: tensor(0.0083, device='cuda:0')\n",
      "CNN Validation Score: tensor(0.5923)\n",
      "Saving\n",
      "{'train_loss': tensor(0.0268, device='cuda:0', grad_fn=<MeanBackward0>), 'Recall': tensor(0.5462), 'lr': 1.2380009889568678e-05}\n",
      "Val Loss: tensor(0.0072, device='cuda:0')\n",
      "CNN Validation Score: tensor(0.6092)\n",
      "Saving\n",
      "{'train_loss': tensor(0.0786, device='cuda:0', grad_fn=<MeanBackward0>), 'Recall': tensor(0.5541), 'lr': 4.478753621263812e-05}\n",
      "Val Loss: tensor(0.0123, device='cuda:0')\n",
      "CNN Validation Score: tensor(0.6154)\n",
      "Saving\n",
      "{'train_loss': tensor(0.0889, device='cuda:0', grad_fn=<MeanBackward0>), 'Recall': tensor(0.5599), 'lr': 9.328882686144862e-05}\n",
      "Val Loss: tensor(0.0082, device='cuda:0')\n",
      "CNN Validation Score: tensor(0.6220)\n",
      "Saving\n",
      "{'train_loss': tensor(0.0509, device='cuda:0', grad_fn=<MeanBackward0>), 'Recall': tensor(0.5654), 'lr': 0.00015049999999999992}\n",
      "Val Loss: tensor(0.0080, device='cuda:0')\n",
      "CNN Validation Score: tensor(0.6351)\n",
      "Saving\n",
      "{'train_loss': tensor(0.0851, device='cuda:0', grad_fn=<MeanBackward0>), 'Recall': tensor(0.5711), 'lr': 0.00020771117313875276}\n",
      "Val Loss: tensor(0.0075, device='cuda:0')\n",
      "CNN Validation Score: tensor(0.6481)\n",
      "Saving\n",
      "{'train_loss': tensor(0.0284, device='cuda:0', grad_fn=<MeanBackward0>), 'Recall': tensor(0.5760), 'lr': 0.00025621246378751546}\n",
      "Val Loss: tensor(0.0077, device='cuda:0')\n",
      "CNN Validation Score: tensor(0.6580)\n",
      "Saving\n",
      "{'train_loss': tensor(0.0165, device='cuda:0', grad_fn=<MeanBackward0>), 'Recall': tensor(0.5807), 'lr': 0.0002886199901104842}\n",
      "Val Loss: tensor(0.0211, device='cuda:0')\n",
      "CNN Validation Score: tensor(0.6570)\n",
      "{'train_loss': tensor(0.0580, device='cuda:0', grad_fn=<MeanBackward0>), 'Recall': tensor(0.5840), 'lr': 0.0002999999999999465}\n",
      "Val Loss: tensor(0.0130, device='cuda:0')\n",
      "CNN Validation Score: tensor(0.6572)\n",
      "{'train_loss': tensor(0.0193, device='cuda:0', grad_fn=<MeanBackward0>), 'Recall': tensor(0.5883), 'lr': 0.0002886199901106189}\n",
      "Val Loss: tensor(0.0108, device='cuda:0')\n",
      "CNN Validation Score: tensor(0.6607)\n",
      "Saving\n",
      "{'train_loss': tensor(0.0243, device='cuda:0', grad_fn=<MeanBackward0>), 'Recall': tensor(0.5923), 'lr': 0.00025621246378746245}\n",
      "Val Loss: tensor(0.0085, device='cuda:0')\n",
      "CNN Validation Score: tensor(0.6672)\n",
      "Saving\n",
      "{'train_loss': tensor(0.0099, device='cuda:0', grad_fn=<MeanBackward0>), 'Recall': tensor(0.5957), 'lr': 0.0002077111731385517}\n",
      "Val Loss: tensor(0.0086, device='cuda:0')\n",
      "CNN Validation Score: tensor(0.6707)\n",
      "Saving\n",
      "{'train_loss': tensor(0.1537, device='cuda:0', grad_fn=<MeanBackward0>), 'Recall': tensor(0.5998), 'lr': 0.00015049999999995403}\n",
      "Val Loss: tensor(0.0460, device='cuda:0')\n",
      "CNN Validation Score: tensor(0.6623)\n",
      "{'train_loss': tensor(0.0338, device='cuda:0', grad_fn=<MeanBackward0>), 'Recall': tensor(0.6029), 'lr': 9.328882686157459e-05}\n",
      "Val Loss: tensor(0.0065, device='cuda:0')\n",
      "CNN Validation Score: tensor(0.6685)\n",
      "{'train_loss': tensor(0.0312, device='cuda:0', grad_fn=<MeanBackward0>), 'Recall': tensor(0.6047), 'lr': 4.478753621267157e-05}\n",
      "Val Loss: tensor(0.0073, device='cuda:0')\n",
      "CNN Validation Score: tensor(0.6752)\n",
      "Saving\n",
      "{'train_loss': tensor(0.0579, device='cuda:0', grad_fn=<MeanBackward0>), 'Recall': tensor(0.6069), 'lr': 1.2380009889575544e-05}\n",
      "Val Loss: tensor(0.0083, device='cuda:0')\n",
      "CNN Validation Score: tensor(0.6781)\n",
      "Saving\n",
      "{'train_loss': tensor(0.0986, device='cuda:0', grad_fn=<MeanBackward0>), 'Recall': tensor(0.6095), 'lr': 1e-06}\n",
      "Val Loss: tensor(0.0080, device='cuda:0')\n",
      "CNN Validation Score: tensor(0.6826)\n",
      "Saving\n",
      "{'train_loss': tensor(0.0253, device='cuda:0', grad_fn=<MeanBackward0>), 'Recall': tensor(0.6115), 'lr': 1.2380009889561207e-05}\n",
      "Val Loss: tensor(0.0062, device='cuda:0')\n",
      "CNN Validation Score: tensor(0.6881)\n",
      "Saving\n",
      "{'train_loss': tensor(0.0404, device='cuda:0', grad_fn=<MeanBackward0>), 'Recall': tensor(0.6136), 'lr': 4.478753621259509e-05}\n",
      "Val Loss: tensor(0.0085, device='cuda:0')\n",
      "CNN Validation Score: tensor(0.6921)\n",
      "Saving\n",
      "{'train_loss': tensor(0.0923, device='cuda:0', grad_fn=<MeanBackward0>), 'Recall': tensor(0.6163), 'lr': 9.32888268615698e-05}\n",
      "Val Loss: tensor(0.0143, device='cuda:0')\n",
      "CNN Validation Score: tensor(0.6954)\n",
      "Saving\n",
      "{'train_loss': tensor(0.0926, device='cuda:0', grad_fn=<MeanBackward0>), 'Recall': tensor(0.6177), 'lr': 0.0001505000000001954}\n",
      "Val Loss: tensor(0.0152, device='cuda:0')\n",
      "CNN Validation Score: tensor(0.6950)\n",
      "{'train_loss': tensor(0.0187, device='cuda:0', grad_fn=<MeanBackward0>), 'Recall': tensor(0.6198), 'lr': 0.00020771117313878325}\n",
      "Val Loss: tensor(0.0121, device='cuda:0')\n",
      "CNN Validation Score: tensor(0.6960)\n",
      "Saving\n",
      "{'train_loss': tensor(0.1075, device='cuda:0', grad_fn=<MeanBackward0>), 'Recall': tensor(0.6222), 'lr': 0.00025621246378755233}\n",
      "Val Loss: tensor(0.0119, device='cuda:0')\n",
      "CNN Validation Score: tensor(0.6964)\n",
      "Saving\n",
      "{'train_loss': tensor(0.0323, device='cuda:0', grad_fn=<MeanBackward0>), 'Recall': tensor(0.6237), 'lr': 0.00028861999011052487}\n",
      "Val Loss: tensor(0.0226, device='cuda:0')\n",
      "CNN Validation Score: tensor(0.6950)\n",
      "{'train_loss': tensor(0.1909, device='cuda:0', grad_fn=<MeanBackward0>), 'Recall': tensor(0.6259), 'lr': 0.00029999999999998805}\n",
      "Val Loss: tensor(0.0106, device='cuda:0')\n",
      "CNN Validation Score: tensor(0.6950)\n",
      "{'train_loss': tensor(0.0792, device='cuda:0', grad_fn=<MeanBackward0>), 'Recall': tensor(0.6274), 'lr': 0.00028861999011032743}\n",
      "Val Loss: tensor(0.0103, device='cuda:0')\n",
      "CNN Validation Score: tensor(0.6968)\n",
      "Saving\n",
      "{'train_loss': tensor(0.0389, device='cuda:0', grad_fn=<MeanBackward0>), 'Recall': tensor(0.6285), 'lr': 0.00025621246378779134}\n",
      "Val Loss: tensor(0.0122, device='cuda:0')\n",
      "CNN Validation Score: tensor(0.6978)\n",
      "Saving\n",
      "{'train_loss': tensor(0.0142, device='cuda:0', grad_fn=<MeanBackward0>), 'Recall': tensor(0.6297), 'lr': 0.000207711173138833}\n",
      "Val Loss: tensor(0.0083, device='cuda:0')\n",
      "CNN Validation Score: tensor(0.7003)\n",
      "Saving\n",
      "{'train_loss': tensor(0.0332, device='cuda:0', grad_fn=<MeanBackward0>), 'Recall': tensor(0.6314), 'lr': 0.0001505000000001276}\n",
      "Val Loss: tensor(0.0093, device='cuda:0')\n",
      "CNN Validation Score: tensor(0.7002)\n",
      "{'train_loss': tensor(0.0294, device='cuda:0', grad_fn=<MeanBackward0>), 'Recall': tensor(0.6328), 'lr': 9.32888268616759e-05}\n",
      "Val Loss: tensor(0.0069, device='cuda:0')\n",
      "CNN Validation Score: tensor(0.7038)\n",
      "Saving\n",
      "{'train_loss': tensor(0.0169, device='cuda:0', grad_fn=<MeanBackward0>), 'Recall': tensor(0.6352), 'lr': 4.478753621269073e-05}\n",
      "Val Loss: tensor(0.0065, device='cuda:0')\n",
      "CNN Validation Score: tensor(0.7071)\n",
      "Saving\n",
      "{'train_loss': tensor(0.0281, device='cuda:0', grad_fn=<MeanBackward0>), 'Recall': tensor(0.6366), 'lr': 1.2380009889582988e-05}\n"
     ]
    },
    {
     "name": "stdout",
     "output_type": "stream",
     "text": [
      "Val Loss: tensor(0.0064, device='cuda:0')\n",
      "CNN Validation Score: tensor(0.7108)\n",
      "Saving\n",
      "{'train_loss': tensor(0.0081, device='cuda:0', grad_fn=<MeanBackward0>), 'Recall': tensor(0.6382), 'lr': 1e-06}\n",
      "Val Loss: tensor(0.0079, device='cuda:0')\n",
      "CNN Validation Score: tensor(0.7129)\n",
      "Saving\n",
      "{'train_loss': tensor(0.0199, device='cuda:0', grad_fn=<MeanBackward0>), 'Recall': tensor(0.6396), 'lr': 1.2380009889556991e-05}\n",
      "Val Loss: tensor(0.0065, device='cuda:0')\n",
      "CNN Validation Score: tensor(0.7160)\n",
      "Saving\n",
      "{'train_loss': tensor(0.0100, device='cuda:0', grad_fn=<MeanBackward0>), 'Recall': tensor(0.6407), 'lr': 4.478753621253995e-05}\n",
      "Val Loss: tensor(0.0081, device='cuda:0')\n",
      "CNN Validation Score: tensor(0.7175)\n",
      "Saving\n",
      "{'train_loss': tensor(0.0876, device='cuda:0', grad_fn=<MeanBackward0>), 'Recall': tensor(0.6423), 'lr': 9.328882686170692e-05}\n",
      "Val Loss: tensor(0.0078, device='cuda:0')\n",
      "CNN Validation Score: tensor(0.7199)\n",
      "Saving\n",
      "{'train_loss': tensor(0.1515, device='cuda:0', grad_fn=<MeanBackward0>), 'Recall': tensor(0.6432), 'lr': 0.000150500000000374}\n",
      "Val Loss: tensor(0.0079, device='cuda:0')\n",
      "CNN Validation Score: tensor(0.7223)\n",
      "Saving\n",
      "{'train_loss': tensor(0.0682, device='cuda:0', grad_fn=<MeanBackward0>), 'Recall': tensor(0.6442), 'lr': 0.0002077111731390684}\n",
      "Val Loss: tensor(0.0255, device='cuda:0')\n",
      "CNN Validation Score: tensor(0.7206)\n",
      "{'train_loss': tensor(0.1034, device='cuda:0', grad_fn=<MeanBackward0>), 'Recall': tensor(0.6455), 'lr': 0.000256212463787872}\n",
      "Val Loss: tensor(0.0116, device='cuda:0')\n",
      "CNN Validation Score: tensor(0.7214)\n",
      "{'train_loss': tensor(0.1130, device='cuda:0', grad_fn=<MeanBackward0>), 'Recall': tensor(0.6469), 'lr': 0.00028861999011090445}\n",
      "Val Loss: tensor(0.0426, device='cuda:0')\n",
      "CNN Validation Score: tensor(0.7151)\n",
      "{'train_loss': tensor(0.0615, device='cuda:0', grad_fn=<MeanBackward0>), 'Recall': tensor(0.6478), 'lr': 0.00030000000000037484}\n",
      "Val Loss: tensor(0.0079, device='cuda:0')\n",
      "CNN Validation Score: tensor(0.7171)\n",
      "{'train_loss': tensor(0.0368, device='cuda:0', grad_fn=<MeanBackward0>), 'Recall': tensor(0.6489), 'lr': 0.0002886199901106906}\n",
      "Val Loss: tensor(0.0124, device='cuda:0')\n",
      "CNN Validation Score: tensor(0.7188)\n",
      "{'train_loss': tensor(0.0474, device='cuda:0', grad_fn=<MeanBackward0>), 'Recall': tensor(0.6502), 'lr': 0.00025621246378754235}\n",
      "Val Loss: tensor(0.0085, device='cuda:0')\n",
      "CNN Validation Score: tensor(0.7208)\n"
     ]
    }
   ],
   "source": [
    "from torch.autograd import Variable\n",
    "#Train Correspong Supervised CNN\n",
    "print('Fine tunning Cov-T')\n",
    "model_cnn.fc=nn.Linear(in_features=2048, out_features=4, bias=True)\n",
    "criterion = FocalLoss(cfg.fl_alpha, cfg.fl_gamma)\n",
    "metric = MyF1Score(cfg)\n",
    "val_metric=MyF1Score(cfg)\n",
    "optimizer = torch.optim.Adam(model_cnn.parameters(), lr = 3e-4)\n",
    "scheduler = torch.optim.lr_scheduler.CosineAnnealingLR(optimizer,T_max=cfg.t_max,eta_min=cfg.min_lr)\n",
    "model_cnn.train()\n",
    "best=0\n",
    "best_val=0\n",
    "last_loss=math.inf\n",
    "writer = SummaryWriter()\n",
    "#change Epoch Here\n",
    "for epoch in range(50):\n",
    "    for images,label in train_loader:\n",
    "        model_cnn.train()\n",
    "        images = images.to(device)\n",
    "        label = label.to(device)\n",
    "        model_cnn.to(device)\n",
    "        pred_ts=model_cnn(images)\n",
    "        loss = criterion(pred_ts, label)\n",
    "        score = metric(pred_ts, label)\n",
    "        loss.backward()\n",
    "        optimizer.step()\n",
    "        optimizer.zero_grad()\n",
    "        scheduler.step()\n",
    "    train_score=metric.compute()\n",
    "    logs = {'train_loss': loss, 'Recall': train_score, 'lr': optimizer.param_groups[0]['lr']}\n",
    "    writer.add_scalar(\"Supervised-CNN Loss/train\", loss, epoch)\n",
    "    writer.add_scalar(\"Supervised-CNN Recall/train\", train_score, epoch)\n",
    "   \n",
    "    print(logs)\n",
    "    if best < train_score:\n",
    "        with torch.no_grad():\n",
    "            best=train_score\n",
    "            model_cnn.eval()\n",
    "            total_loss = 0\n",
    "            for images,label in valid_loader:\n",
    "                images = images.to(device)\n",
    "                label = label.to(device)\n",
    "                model_cnn.to(device)\n",
    "                pred_ts=model_cnn(images)\n",
    "                score_val = val_metric(pred_ts,label)\n",
    "                val_loss = criterion(pred_ts, label)\n",
    "                total_loss += val_loss.detach()\n",
    "            avg_loss=total_loss/ len(train_loader)   \n",
    "            print('Val Loss:',avg_loss)\n",
    "            val_score=val_metric.compute()\n",
    "            print('CNN Validation Score:',val_score)\n",
    "            writer.add_scalar(\"CNN Supervised F1/Validation\", val_score, epoch)\n",
    "            if avg_loss > last_loss:\n",
    "                counter+=1\n",
    "            else:\n",
    "                counter=0\n",
    "                    \n",
    "            last_loss = avg_loss\n",
    "            if counter > 5:\n",
    "                print('Early Stopping!')\n",
    "                break\n",
    "            else:\n",
    "                if val_score > best_val:\n",
    "                    best_val=val_score\n",
    "                    print('Saving')\n",
    "                    torch.save(model_cnn,\n",
    "                        './cass-CNN-100epoch-16batch-finetune.pt')\n",
    "writer.flush()"
   ]
  },
  {
   "cell_type": "code",
   "execution_count": null,
   "metadata": {},
   "outputs": [
    {
     "name": "stdout",
     "output_type": "stream",
     "text": [
      "Fine tunning Cov-T\n",
      "{'train_loss': tensor(0.1136, device='cuda:0', grad_fn=<MeanBackward0>), 'Recall': tensor(0.1640), 'lr': 0.0002886199901104358}\n",
      "Val Loss: tensor(0.0192, device='cuda:0')\n",
      "ViT Validation Score: tensor(0.)\n",
      "{'train_loss': tensor(0.0649, device='cuda:0', grad_fn=<MeanBackward0>), 'Recall': tensor(0.1566), 'lr': 0.0002562124637873931}\n",
      "{'train_loss': tensor(0.1612, device='cuda:0', grad_fn=<MeanBackward0>), 'Recall': tensor(0.1584), 'lr': 0.00020771117313860425}\n",
      "{'train_loss': tensor(0.1208, device='cuda:0', grad_fn=<MeanBackward0>), 'Recall': tensor(0.1576), 'lr': 0.00015050000000000813}\n",
      "{'train_loss': tensor(0.0632, device='cuda:0', grad_fn=<MeanBackward0>), 'Recall': tensor(0.1584), 'lr': 9.328882686144916e-05}\n",
      "{'train_loss': tensor(0.0773, device='cuda:0', grad_fn=<MeanBackward0>), 'Recall': tensor(0.1601), 'lr': 4.478753621261033e-05}\n",
      "{'train_loss': tensor(0.0765, device='cuda:0', grad_fn=<MeanBackward0>), 'Recall': tensor(0.1603), 'lr': 1.2380009889564934e-05}\n",
      "{'train_loss': tensor(0.0581, device='cuda:0', grad_fn=<MeanBackward0>), 'Recall': tensor(0.1612), 'lr': 1e-06}\n",
      "{'train_loss': tensor(0.0729, device='cuda:0', grad_fn=<MeanBackward0>), 'Recall': tensor(0.1635), 'lr': 1.2380009889568678e-05}\n",
      "{'train_loss': tensor(0.0787, device='cuda:0', grad_fn=<MeanBackward0>), 'Recall': tensor(0.1656), 'lr': 4.478753621263812e-05}\n",
      "Val Loss: tensor(0.0206, device='cuda:0')\n",
      "ViT Validation Score: tensor(0.1540)\n",
      "Saving\n",
      "{'train_loss': tensor(0.0996, device='cuda:0', grad_fn=<MeanBackward0>), 'Recall': tensor(0.1639), 'lr': 9.328882686144862e-05}\n",
      "{'train_loss': tensor(0.0986, device='cuda:0', grad_fn=<MeanBackward0>), 'Recall': tensor(0.1663), 'lr': 0.00015049999999999992}\n",
      "Val Loss: tensor(0.0204, device='cuda:0')\n",
      "ViT Validation Score: tensor(0.1182)\n",
      "{'train_loss': tensor(0.1187, device='cuda:0', grad_fn=<MeanBackward0>), 'Recall': tensor(0.1638), 'lr': 0.00020771117313875276}\n",
      "{'train_loss': tensor(0.0901, device='cuda:0', grad_fn=<MeanBackward0>), 'Recall': tensor(0.1629), 'lr': 0.00025621246378751546}\n",
      "{'train_loss': tensor(0.1471, device='cuda:0', grad_fn=<MeanBackward0>), 'Recall': tensor(0.1628), 'lr': 0.0002886199901104842}\n",
      "{'train_loss': tensor(0.1279, device='cuda:0', grad_fn=<MeanBackward0>), 'Recall': tensor(0.1631), 'lr': 0.0002999999999999465}\n",
      "{'train_loss': tensor(0.0910, device='cuda:0', grad_fn=<MeanBackward0>), 'Recall': tensor(0.1638), 'lr': 0.0002886199901106189}\n",
      "{'train_loss': tensor(0.1061, device='cuda:0', grad_fn=<MeanBackward0>), 'Recall': tensor(0.1636), 'lr': 0.00025621246378746245}\n",
      "{'train_loss': tensor(0.0899, device='cuda:0', grad_fn=<MeanBackward0>), 'Recall': tensor(0.1640), 'lr': 0.0002077111731385517}\n",
      "{'train_loss': tensor(0.0756, device='cuda:0', grad_fn=<MeanBackward0>), 'Recall': tensor(0.1652), 'lr': 0.00015049999999995403}\n",
      "{'train_loss': tensor(0.0804, device='cuda:0', grad_fn=<MeanBackward0>), 'Recall': tensor(0.1653), 'lr': 9.328882686157459e-05}\n",
      "{'train_loss': tensor(0.0843, device='cuda:0', grad_fn=<MeanBackward0>), 'Recall': tensor(0.1673), 'lr': 4.478753621267157e-05}\n",
      "Val Loss: tensor(0.0194, device='cuda:0')\n",
      "ViT Validation Score: tensor(0.0947)\n",
      "{'train_loss': tensor(0.0827, device='cuda:0', grad_fn=<MeanBackward0>), 'Recall': tensor(0.1668), 'lr': 1.2380009889575544e-05}\n",
      "{'train_loss': tensor(0.0944, device='cuda:0', grad_fn=<MeanBackward0>), 'Recall': tensor(0.1677), 'lr': 1e-06}\n",
      "Val Loss: tensor(0.0196, device='cuda:0')\n",
      "ViT Validation Score: tensor(0.0790)\n",
      "{'train_loss': tensor(0.0846, device='cuda:0', grad_fn=<MeanBackward0>), 'Recall': tensor(0.1670), 'lr': 1.2380009889561207e-05}\n",
      "{'train_loss': tensor(0.0755, device='cuda:0', grad_fn=<MeanBackward0>), 'Recall': tensor(0.1662), 'lr': 4.478753621259509e-05}\n",
      "{'train_loss': tensor(0.0618, device='cuda:0', grad_fn=<MeanBackward0>), 'Recall': tensor(0.1656), 'lr': 9.32888268615698e-05}\n",
      "{'train_loss': tensor(0.0893, device='cuda:0', grad_fn=<MeanBackward0>), 'Recall': tensor(0.1668), 'lr': 0.0001505000000001954}\n"
     ]
    }
   ],
   "source": [
    "#Train Correspong Supervised Vit\n",
    "model_vit=torch.load('cass-VIT-100epoch-16batch-pretraining.pt')\n",
    "print('Fine tunning Cov-T')\n",
    "model_vit.head=nn.Linear(in_features=768, out_features=4, bias=True)\n",
    "criterion = FocalLoss(cfg.fl_alpha, cfg.fl_gamma)\n",
    "metric = MyF1Score(cfg)\n",
    "optimizer = torch.optim.Adam(model_vit.parameters(), lr = 3e-4)\n",
    "scheduler = torch.optim.lr_scheduler.CosineAnnealingLR(optimizer,T_max=cfg.t_max,eta_min=cfg.min_lr)\n",
    "model_vit.train()\n",
    "val_metric=MyF1Score(cfg)\n",
    "writer = SummaryWriter()\n",
    "from torch.autograd import Variable\n",
    "best=0\n",
    "best_val=0\n",
    "last_loss=math.inf\n",
    "start_time = time.perf_counter()\n",
    "#Number of Epoches Change here\n",
    "for epoch in range(50):\n",
    "    for images,label in train_loader:\n",
    "        model_vit.train()\n",
    "        images = images.to(device)\n",
    "        label = label.to(device)\n",
    "        model_vit.to(device)\n",
    "        pred_ts=model_vit(images)\n",
    "        loss = criterion(pred_ts, label)\n",
    "        score = metric(pred_ts,label)\n",
    "        loss.backward()\n",
    "        optimizer.step()\n",
    "        optimizer.zero_grad()\n",
    "        scheduler.step()\n",
    "    train_score=metric.compute()\n",
    "    logs = {'train_loss': loss, 'Recall': train_score, 'lr': optimizer.param_groups[0]['lr']}\n",
    "    writer.add_scalar(\"Supervised-ViT Loss/train\", loss, epoch)\n",
    "    writer.add_scalar(\"Supervised-ViT Recall/train\", train_score, epoch)\n",
    "   \n",
    "    print(logs)\n",
    "    if best < train_score:\n",
    "        with torch.no_grad():\n",
    "            best=train_score\n",
    "            model_vit.eval()\n",
    "            total_loss = 0\n",
    "            for images,label in valid_loader:\n",
    "                images = images.to(device)\n",
    "                label = label.to(device)\n",
    "                model_vit.to(device)\n",
    "                pred_ts=model_vit(images)\n",
    "                score_val = val_metric(pred_ts,label)\n",
    "                val_loss = criterion(pred_ts, label)\n",
    "                total_loss += val_loss.detach()\n",
    "            avg_loss=total_loss/ len(train_loader)   \n",
    "            print('Val Loss:',avg_loss)\n",
    "            val_score=val_metric.compute()\n",
    "            print('ViT Validation Score:',val_score)\n",
    "            writer.add_scalar(\"ViT Supervised F1/Validation\", val_score, epoch)\n",
    "            if avg_loss > last_loss:\n",
    "                counter+=1\n",
    "            else:\n",
    "                counter=0\n",
    "                    \n",
    "            last_loss = avg_loss\n",
    "            if counter > 5:\n",
    "                print('Early Stopping!')\n",
    "                break\n",
    "            else:\n",
    "                if val_score > best_val:\n",
    "                    best_val=val_score\n",
    "                    print('Saving')\n",
    "                    torch.save(model_vit,\n",
    "                        './cass-VIT-100epoch-16batch-finetune.pt')\n",
    "writer.flush()\n",
    "elapsed_time = time.perf_counter() - start_time\n",
    "\n",
    "print(f\"The function took {elapsed_time:.6f} seconds to run.\")"
   ]
  },
  {
   "cell_type": "markdown",
   "metadata": {
    "id": "gX6bCcZNuxmz"
   },
   "source": [
    "# Evaluation\n"
   ]
  },
  {
   "cell_type": "markdown",
   "metadata": {},
   "source": [
    "In the following section, we use the test dataset to evaluate our finetuned models. We only interested in the F1 score since that's the only number reported in the paper."
   ]
  },
  {
   "cell_type": "code",
   "execution_count": 48,
   "metadata": {},
   "outputs": [],
   "source": [
    "class CFG:\n",
    "    # data path\n",
    "    data_path  = 'BrainMRI/testing.csv'\n",
    "    train_imgs_dir  = 'BrainMRI/Testing'\n",
    "    # model info\n",
    "    # label info\n",
    "    label_num2str = {0: 'glioma',\n",
    "                     1: 'pituitary',\n",
    "                     2:'notumor',\n",
    "                     3:'meningioma'\n",
    "                     }\n",
    "    label_str2num = {'glioma': 0,\n",
    "                     'pituitary':1,\n",
    "                     'notumor':2,\n",
    "                     'meningioma':3\n",
    "                     }\n",
    "    fl_alpha = 1.0  # alpha of focal_loss\n",
    "    fl_gamma = 2.0  # gamma of focal_loss\n",
    "    cls_weight = [0.2, 0.5970802919708029, 1.0, 0.25255474452554744] # copy the cls_weight from previous step or just use the variable\n",
    "    cnn_name='resnet50'\n",
    "    vit_name='vit_base_patch16_384'\n",
    "    seed = 77\n",
    "    num_classes = 4\n",
    "    batch_size = 16\n",
    "    t_max = 16\n",
    "    lr = 1e-3\n",
    "    min_lr = 1e-6\n",
    "    n_fold = 6\n",
    "    num_workers = 8\n",
    "    gpu_idx = 0\n",
    "    device = torch.device(f'cuda:{gpu_idx}' if torch.cuda.is_available() else 'cpu')\n",
    "    gpu_list = [gpu_idx]"
   ]
  },
  {
   "cell_type": "code",
   "execution_count": 49,
   "metadata": {},
   "outputs": [],
   "source": [
    "class Dataset(Dataset):\n",
    "    def __init__(self, cfg, img_names: list, labels: list, transform=None):\n",
    "        self.img_dir = cfg.train_imgs_dir\n",
    "        self.img_names = img_names\n",
    "        self.labels = labels\n",
    "        self.transform = transform\n",
    "\n",
    "    def __len__(self):\n",
    "        return len(self.img_names)\n",
    "\n",
    "    def __getitem__(self, idx):\n",
    "        img_path = self.img_names[idx]\n",
    "        img = Image.open(img_path).convert('RGB')\n",
    "        img_ts = self.transform(img)\n",
    "        label_ts = self.labels[idx]\n",
    "        return img_ts, label_ts"
   ]
  },
  {
   "cell_type": "code",
   "execution_count": 50,
   "metadata": {},
   "outputs": [],
   "source": [
    "class FocalLoss(nn.Module):\n",
    "    \"\"\"\n",
    "    The focal loss for fighting against class-imbalance\n",
    "    \"\"\"\n",
    "    def __init__(self, alpha=1, gamma=2):\n",
    "        super(FocalLoss, self).__init__()\n",
    "        self.alpha = alpha\n",
    "        self.gamma = gamma\n",
    "        self.epsilon = 1e-12  # prevent training from Nan-loss error\n",
    "        self.cls_weights = torch.tensor([CFG.cls_weight],dtype=torch.float, requires_grad=False, device=CFG.device)\n",
    "\n",
    "    def forward(self, logits, target):\n",
    "        \"\"\"\n",
    "        logits & target should be tensors with shape [batch_size, num_classes]\n",
    "        \"\"\"\n",
    "        probs = torch.sigmoid(logits)\n",
    "        one_subtract_probs = 1.0 - probs\n",
    "        # add epsilon\n",
    "        probs_new = probs + self.epsilon\n",
    "        one_subtract_probs_new = one_subtract_probs + self.epsilon\n",
    "        # calculate focal loss\n",
    "        log_pt = target * torch.log(probs_new) + (1.0 - target) * torch.log(one_subtract_probs_new)\n",
    "        pt = torch.exp(log_pt)\n",
    "        focal_loss = -1.0 * (self.alpha * (1 - pt) ** self.gamma) * log_pt\n",
    "        focal_loss = focal_loss * self.cls_weights\n",
    "        return torch.mean(focal_loss)"
   ]
  },
  {
   "cell_type": "code",
   "execution_count": 51,
   "metadata": {},
   "outputs": [],
   "source": [
    "\"\"\"\n",
    "Define F1 score metric\n",
    "\"\"\"\n",
    "class MyF1Score(Metric):\n",
    "    def __init__(self, cfg, threshold: float = 0.5, dist_sync_on_step=False):\n",
    "        super().__init__(dist_sync_on_step=dist_sync_on_step)\n",
    "        self.cfg = cfg\n",
    "        \n",
    "        self.threshold = threshold\n",
    "        self.add_state(\"tp\", default=torch.tensor(0), dist_reduce_fx=\"sum\")\n",
    "        self.add_state(\"fp\", default=torch.tensor(0), dist_reduce_fx=\"sum\")\n",
    "        self.add_state(\"fn\", default=torch.tensor(0), dist_reduce_fx=\"sum\")\n",
    "\n",
    "    def update(self, preds: torch.Tensor, target: torch.Tensor):\n",
    "        assert preds.shape == target.shape\n",
    "        preds_str_batch = self.num_to_str(torch.sigmoid(preds))\n",
    "        target_str_batch = self.num_to_str(target)\n",
    "        tp, fp, fn = 0, 0, 0\n",
    "        for pred_str_list, target_str_list in zip(preds_str_batch, target_str_batch):\n",
    "            for pred_str in pred_str_list:\n",
    "                if pred_str in target_str_list:\n",
    "                    tp += 1\n",
    "                if pred_str not in target_str_list:\n",
    "                    fp += 1\n",
    "\n",
    "            for target_str in target_str_list:\n",
    "                if target_str not in pred_str_list:\n",
    "                    fn += 1\n",
    "        self.tp += tp\n",
    "        self.fp += fp\n",
    "        self.fn += fn\n",
    "\n",
    "    def compute(self):\n",
    "        f1 = 2.0 * self.tp / (2.0 * self.tp + self.fn + self.fp)\n",
    "        #rec = self.tp/(self.tp + self.fn)\n",
    "        return f1\n",
    "    \n",
    "    def num_to_str(self, ts: torch.Tensor) -> list:\n",
    "        batch_bool_list = (ts > self.threshold).detach().cpu().numpy().tolist()\n",
    "        batch_str_list = []\n",
    "        for one_sample_bool in batch_bool_list:\n",
    "            lb_str_list = [self.cfg.label_num2str[lb_idx] for lb_idx, bool_val in enumerate(one_sample_bool) if bool_val]\n",
    "            if len(lb_str_list) == 0:\n",
    "                lb_str_list = ['healthy']\n",
    "            batch_str_list.append(lb_str_list)\n",
    "        return batch_str_list"
   ]
  },
  {
   "cell_type": "code",
   "execution_count": 52,
   "metadata": {},
   "outputs": [
    {
     "name": "stderr",
     "output_type": "stream",
     "text": [
      "Global seed set to 77\n"
     ]
    }
   ],
   "source": [
    "device = torch.device(\"cuda:0\" if torch.cuda.is_available() else \"cpu\")\n",
    "seed_everything(77)\n",
    "cfg=CFG()"
   ]
  },
  {
   "cell_type": "markdown",
   "metadata": {},
   "source": [
    "We use the same Image Mean and STD as in the training steps "
   ]
  },
  {
   "cell_type": "code",
   "execution_count": 53,
   "metadata": {},
   "outputs": [],
   "source": [
    "DATASET_IMAGE_MEAN = (0.1857, 0.1857, 0.1858)\n",
    "DATASET_IMAGE_STD = (0.2018, 0.2018, 0.2018)"
   ]
  },
  {
   "cell_type": "code",
   "execution_count": 54,
   "metadata": {},
   "outputs": [],
   "source": [
    "test_transform = tsfm.Compose([tsfm.Resize((384,384)),\n",
    "                                tsfm.RandomApply([tsfm.ColorJitter(0.2, 0.2, 0.2),tsfm.RandomPerspective(distortion_scale=0.2),], p=0.3),\n",
    "                                tsfm.RandomApply([tsfm.ColorJitter(0.2, 0.2, 0.2),tsfm.RandomAffine(degrees=10),], p=0.3),\n",
    "                                tsfm.RandomVerticalFlip(p=0.3),\n",
    "                                tsfm.RandomHorizontalFlip(p=0.3),\n",
    "                                tsfm.ToTensor(),\n",
    "                                tsfm.Normalize(DATASET_IMAGE_MEAN, DATASET_IMAGE_STD), ])\n",
    "\n"
   ]
  },
  {
   "cell_type": "code",
   "execution_count": 55,
   "metadata": {},
   "outputs": [],
   "source": [
    "df=pd.read_csv('testing.csv')"
   ]
  },
  {
   "cell_type": "code",
   "execution_count": 56,
   "metadata": {},
   "outputs": [
    {
     "data": {
      "text/plain": [
       "notumor       405\n",
       "meningioma    306\n",
       "glioma        300\n",
       "pituitary     300\n",
       "Name: target, dtype: int64"
      ]
     },
     "execution_count": 56,
     "metadata": {},
     "output_type": "execute_result"
    }
   ],
   "source": [
    "df['target'].value_counts()"
   ]
  },
  {
   "cell_type": "code",
   "execution_count": 57,
   "metadata": {},
   "outputs": [],
   "source": [
    "all_img_names: list = df['path'].values.tolist()"
   ]
  },
  {
   "cell_type": "code",
   "execution_count": 58,
   "metadata": {},
   "outputs": [
    {
     "data": {
      "text/plain": [
       "1311"
      ]
     },
     "execution_count": 58,
     "metadata": {},
     "output_type": "execute_result"
    }
   ],
   "source": [
    "len(all_img_names)"
   ]
  },
  {
   "cell_type": "code",
   "execution_count": 59,
   "metadata": {},
   "outputs": [],
   "source": [
    "all_img_labels_ts = []\n",
    "for tmp_lb in df['target']:\n",
    "    tmp_label = torch.zeros([CFG.num_classes], dtype=torch.float)\n",
    "    label_num=CFG.label_str2num.get(tmp_lb)\n",
    "    k=int(label_num)\n",
    "    tmp_label[k] = 1.0\n",
    "    all_img_labels_ts.append(tmp_label) "
   ]
  },
  {
   "cell_type": "code",
   "execution_count": 60,
   "metadata": {},
   "outputs": [],
   "source": [
    "test_dataset = Dataset(CFG, all_img_names,all_img_labels_ts, test_transform)\n",
    "test_loader = DataLoader(test_dataset, batch_size=CFG.batch_size, shuffle=True, num_workers=CFG.num_workers, drop_last=True)"
   ]
  },
  {
   "cell_type": "markdown",
   "metadata": {},
   "source": [
    "Please change the fine tune model here"
   ]
  },
  {
   "cell_type": "code",
   "execution_count": 72,
   "metadata": {},
   "outputs": [],
   "source": [
    "model=torch.load('./cass-CNN-50epoch-16batch-finetune.pt')"
   ]
  },
  {
   "cell_type": "code",
   "execution_count": 73,
   "metadata": {},
   "outputs": [
    {
     "data": {
      "text/plain": [
       "ResNet(\n",
       "  (conv1): Conv2d(3, 64, kernel_size=(7, 7), stride=(2, 2), padding=(3, 3), bias=False)\n",
       "  (bn1): BatchNorm2d(64, eps=1e-05, momentum=0.1, affine=True, track_running_stats=True)\n",
       "  (act1): ReLU(inplace=True)\n",
       "  (maxpool): MaxPool2d(kernel_size=3, stride=2, padding=1, dilation=1, ceil_mode=False)\n",
       "  (layer1): Sequential(\n",
       "    (0): Bottleneck(\n",
       "      (conv1): Conv2d(64, 64, kernel_size=(1, 1), stride=(1, 1), bias=False)\n",
       "      (bn1): BatchNorm2d(64, eps=1e-05, momentum=0.1, affine=True, track_running_stats=True)\n",
       "      (act1): ReLU(inplace=True)\n",
       "      (conv2): Conv2d(64, 64, kernel_size=(3, 3), stride=(1, 1), padding=(1, 1), bias=False)\n",
       "      (bn2): BatchNorm2d(64, eps=1e-05, momentum=0.1, affine=True, track_running_stats=True)\n",
       "      (act2): ReLU(inplace=True)\n",
       "      (conv3): Conv2d(64, 256, kernel_size=(1, 1), stride=(1, 1), bias=False)\n",
       "      (bn3): BatchNorm2d(256, eps=1e-05, momentum=0.1, affine=True, track_running_stats=True)\n",
       "      (act3): ReLU(inplace=True)\n",
       "      (downsample): Sequential(\n",
       "        (0): Conv2d(64, 256, kernel_size=(1, 1), stride=(1, 1), bias=False)\n",
       "        (1): BatchNorm2d(256, eps=1e-05, momentum=0.1, affine=True, track_running_stats=True)\n",
       "      )\n",
       "    )\n",
       "    (1): Bottleneck(\n",
       "      (conv1): Conv2d(256, 64, kernel_size=(1, 1), stride=(1, 1), bias=False)\n",
       "      (bn1): BatchNorm2d(64, eps=1e-05, momentum=0.1, affine=True, track_running_stats=True)\n",
       "      (act1): ReLU(inplace=True)\n",
       "      (conv2): Conv2d(64, 64, kernel_size=(3, 3), stride=(1, 1), padding=(1, 1), bias=False)\n",
       "      (bn2): BatchNorm2d(64, eps=1e-05, momentum=0.1, affine=True, track_running_stats=True)\n",
       "      (act2): ReLU(inplace=True)\n",
       "      (conv3): Conv2d(64, 256, kernel_size=(1, 1), stride=(1, 1), bias=False)\n",
       "      (bn3): BatchNorm2d(256, eps=1e-05, momentum=0.1, affine=True, track_running_stats=True)\n",
       "      (act3): ReLU(inplace=True)\n",
       "    )\n",
       "    (2): Bottleneck(\n",
       "      (conv1): Conv2d(256, 64, kernel_size=(1, 1), stride=(1, 1), bias=False)\n",
       "      (bn1): BatchNorm2d(64, eps=1e-05, momentum=0.1, affine=True, track_running_stats=True)\n",
       "      (act1): ReLU(inplace=True)\n",
       "      (conv2): Conv2d(64, 64, kernel_size=(3, 3), stride=(1, 1), padding=(1, 1), bias=False)\n",
       "      (bn2): BatchNorm2d(64, eps=1e-05, momentum=0.1, affine=True, track_running_stats=True)\n",
       "      (act2): ReLU(inplace=True)\n",
       "      (conv3): Conv2d(64, 256, kernel_size=(1, 1), stride=(1, 1), bias=False)\n",
       "      (bn3): BatchNorm2d(256, eps=1e-05, momentum=0.1, affine=True, track_running_stats=True)\n",
       "      (act3): ReLU(inplace=True)\n",
       "    )\n",
       "  )\n",
       "  (layer2): Sequential(\n",
       "    (0): Bottleneck(\n",
       "      (conv1): Conv2d(256, 128, kernel_size=(1, 1), stride=(1, 1), bias=False)\n",
       "      (bn1): BatchNorm2d(128, eps=1e-05, momentum=0.1, affine=True, track_running_stats=True)\n",
       "      (act1): ReLU(inplace=True)\n",
       "      (conv2): Conv2d(128, 128, kernel_size=(3, 3), stride=(2, 2), padding=(1, 1), bias=False)\n",
       "      (bn2): BatchNorm2d(128, eps=1e-05, momentum=0.1, affine=True, track_running_stats=True)\n",
       "      (act2): ReLU(inplace=True)\n",
       "      (conv3): Conv2d(128, 512, kernel_size=(1, 1), stride=(1, 1), bias=False)\n",
       "      (bn3): BatchNorm2d(512, eps=1e-05, momentum=0.1, affine=True, track_running_stats=True)\n",
       "      (act3): ReLU(inplace=True)\n",
       "      (downsample): Sequential(\n",
       "        (0): Conv2d(256, 512, kernel_size=(1, 1), stride=(2, 2), bias=False)\n",
       "        (1): BatchNorm2d(512, eps=1e-05, momentum=0.1, affine=True, track_running_stats=True)\n",
       "      )\n",
       "    )\n",
       "    (1): Bottleneck(\n",
       "      (conv1): Conv2d(512, 128, kernel_size=(1, 1), stride=(1, 1), bias=False)\n",
       "      (bn1): BatchNorm2d(128, eps=1e-05, momentum=0.1, affine=True, track_running_stats=True)\n",
       "      (act1): ReLU(inplace=True)\n",
       "      (conv2): Conv2d(128, 128, kernel_size=(3, 3), stride=(1, 1), padding=(1, 1), bias=False)\n",
       "      (bn2): BatchNorm2d(128, eps=1e-05, momentum=0.1, affine=True, track_running_stats=True)\n",
       "      (act2): ReLU(inplace=True)\n",
       "      (conv3): Conv2d(128, 512, kernel_size=(1, 1), stride=(1, 1), bias=False)\n",
       "      (bn3): BatchNorm2d(512, eps=1e-05, momentum=0.1, affine=True, track_running_stats=True)\n",
       "      (act3): ReLU(inplace=True)\n",
       "    )\n",
       "    (2): Bottleneck(\n",
       "      (conv1): Conv2d(512, 128, kernel_size=(1, 1), stride=(1, 1), bias=False)\n",
       "      (bn1): BatchNorm2d(128, eps=1e-05, momentum=0.1, affine=True, track_running_stats=True)\n",
       "      (act1): ReLU(inplace=True)\n",
       "      (conv2): Conv2d(128, 128, kernel_size=(3, 3), stride=(1, 1), padding=(1, 1), bias=False)\n",
       "      (bn2): BatchNorm2d(128, eps=1e-05, momentum=0.1, affine=True, track_running_stats=True)\n",
       "      (act2): ReLU(inplace=True)\n",
       "      (conv3): Conv2d(128, 512, kernel_size=(1, 1), stride=(1, 1), bias=False)\n",
       "      (bn3): BatchNorm2d(512, eps=1e-05, momentum=0.1, affine=True, track_running_stats=True)\n",
       "      (act3): ReLU(inplace=True)\n",
       "    )\n",
       "    (3): Bottleneck(\n",
       "      (conv1): Conv2d(512, 128, kernel_size=(1, 1), stride=(1, 1), bias=False)\n",
       "      (bn1): BatchNorm2d(128, eps=1e-05, momentum=0.1, affine=True, track_running_stats=True)\n",
       "      (act1): ReLU(inplace=True)\n",
       "      (conv2): Conv2d(128, 128, kernel_size=(3, 3), stride=(1, 1), padding=(1, 1), bias=False)\n",
       "      (bn2): BatchNorm2d(128, eps=1e-05, momentum=0.1, affine=True, track_running_stats=True)\n",
       "      (act2): ReLU(inplace=True)\n",
       "      (conv3): Conv2d(128, 512, kernel_size=(1, 1), stride=(1, 1), bias=False)\n",
       "      (bn3): BatchNorm2d(512, eps=1e-05, momentum=0.1, affine=True, track_running_stats=True)\n",
       "      (act3): ReLU(inplace=True)\n",
       "    )\n",
       "  )\n",
       "  (layer3): Sequential(\n",
       "    (0): Bottleneck(\n",
       "      (conv1): Conv2d(512, 256, kernel_size=(1, 1), stride=(1, 1), bias=False)\n",
       "      (bn1): BatchNorm2d(256, eps=1e-05, momentum=0.1, affine=True, track_running_stats=True)\n",
       "      (act1): ReLU(inplace=True)\n",
       "      (conv2): Conv2d(256, 256, kernel_size=(3, 3), stride=(2, 2), padding=(1, 1), bias=False)\n",
       "      (bn2): BatchNorm2d(256, eps=1e-05, momentum=0.1, affine=True, track_running_stats=True)\n",
       "      (act2): ReLU(inplace=True)\n",
       "      (conv3): Conv2d(256, 1024, kernel_size=(1, 1), stride=(1, 1), bias=False)\n",
       "      (bn3): BatchNorm2d(1024, eps=1e-05, momentum=0.1, affine=True, track_running_stats=True)\n",
       "      (act3): ReLU(inplace=True)\n",
       "      (downsample): Sequential(\n",
       "        (0): Conv2d(512, 1024, kernel_size=(1, 1), stride=(2, 2), bias=False)\n",
       "        (1): BatchNorm2d(1024, eps=1e-05, momentum=0.1, affine=True, track_running_stats=True)\n",
       "      )\n",
       "    )\n",
       "    (1): Bottleneck(\n",
       "      (conv1): Conv2d(1024, 256, kernel_size=(1, 1), stride=(1, 1), bias=False)\n",
       "      (bn1): BatchNorm2d(256, eps=1e-05, momentum=0.1, affine=True, track_running_stats=True)\n",
       "      (act1): ReLU(inplace=True)\n",
       "      (conv2): Conv2d(256, 256, kernel_size=(3, 3), stride=(1, 1), padding=(1, 1), bias=False)\n",
       "      (bn2): BatchNorm2d(256, eps=1e-05, momentum=0.1, affine=True, track_running_stats=True)\n",
       "      (act2): ReLU(inplace=True)\n",
       "      (conv3): Conv2d(256, 1024, kernel_size=(1, 1), stride=(1, 1), bias=False)\n",
       "      (bn3): BatchNorm2d(1024, eps=1e-05, momentum=0.1, affine=True, track_running_stats=True)\n",
       "      (act3): ReLU(inplace=True)\n",
       "    )\n",
       "    (2): Bottleneck(\n",
       "      (conv1): Conv2d(1024, 256, kernel_size=(1, 1), stride=(1, 1), bias=False)\n",
       "      (bn1): BatchNorm2d(256, eps=1e-05, momentum=0.1, affine=True, track_running_stats=True)\n",
       "      (act1): ReLU(inplace=True)\n",
       "      (conv2): Conv2d(256, 256, kernel_size=(3, 3), stride=(1, 1), padding=(1, 1), bias=False)\n",
       "      (bn2): BatchNorm2d(256, eps=1e-05, momentum=0.1, affine=True, track_running_stats=True)\n",
       "      (act2): ReLU(inplace=True)\n",
       "      (conv3): Conv2d(256, 1024, kernel_size=(1, 1), stride=(1, 1), bias=False)\n",
       "      (bn3): BatchNorm2d(1024, eps=1e-05, momentum=0.1, affine=True, track_running_stats=True)\n",
       "      (act3): ReLU(inplace=True)\n",
       "    )\n",
       "    (3): Bottleneck(\n",
       "      (conv1): Conv2d(1024, 256, kernel_size=(1, 1), stride=(1, 1), bias=False)\n",
       "      (bn1): BatchNorm2d(256, eps=1e-05, momentum=0.1, affine=True, track_running_stats=True)\n",
       "      (act1): ReLU(inplace=True)\n",
       "      (conv2): Conv2d(256, 256, kernel_size=(3, 3), stride=(1, 1), padding=(1, 1), bias=False)\n",
       "      (bn2): BatchNorm2d(256, eps=1e-05, momentum=0.1, affine=True, track_running_stats=True)\n",
       "      (act2): ReLU(inplace=True)\n",
       "      (conv3): Conv2d(256, 1024, kernel_size=(1, 1), stride=(1, 1), bias=False)\n",
       "      (bn3): BatchNorm2d(1024, eps=1e-05, momentum=0.1, affine=True, track_running_stats=True)\n",
       "      (act3): ReLU(inplace=True)\n",
       "    )\n",
       "    (4): Bottleneck(\n",
       "      (conv1): Conv2d(1024, 256, kernel_size=(1, 1), stride=(1, 1), bias=False)\n",
       "      (bn1): BatchNorm2d(256, eps=1e-05, momentum=0.1, affine=True, track_running_stats=True)\n",
       "      (act1): ReLU(inplace=True)\n",
       "      (conv2): Conv2d(256, 256, kernel_size=(3, 3), stride=(1, 1), padding=(1, 1), bias=False)\n",
       "      (bn2): BatchNorm2d(256, eps=1e-05, momentum=0.1, affine=True, track_running_stats=True)\n",
       "      (act2): ReLU(inplace=True)\n",
       "      (conv3): Conv2d(256, 1024, kernel_size=(1, 1), stride=(1, 1), bias=False)\n",
       "      (bn3): BatchNorm2d(1024, eps=1e-05, momentum=0.1, affine=True, track_running_stats=True)\n",
       "      (act3): ReLU(inplace=True)\n",
       "    )\n",
       "    (5): Bottleneck(\n",
       "      (conv1): Conv2d(1024, 256, kernel_size=(1, 1), stride=(1, 1), bias=False)\n",
       "      (bn1): BatchNorm2d(256, eps=1e-05, momentum=0.1, affine=True, track_running_stats=True)\n",
       "      (act1): ReLU(inplace=True)\n",
       "      (conv2): Conv2d(256, 256, kernel_size=(3, 3), stride=(1, 1), padding=(1, 1), bias=False)\n",
       "      (bn2): BatchNorm2d(256, eps=1e-05, momentum=0.1, affine=True, track_running_stats=True)\n",
       "      (act2): ReLU(inplace=True)\n",
       "      (conv3): Conv2d(256, 1024, kernel_size=(1, 1), stride=(1, 1), bias=False)\n",
       "      (bn3): BatchNorm2d(1024, eps=1e-05, momentum=0.1, affine=True, track_running_stats=True)\n",
       "      (act3): ReLU(inplace=True)\n",
       "    )\n",
       "  )\n",
       "  (layer4): Sequential(\n",
       "    (0): Bottleneck(\n",
       "      (conv1): Conv2d(1024, 512, kernel_size=(1, 1), stride=(1, 1), bias=False)\n",
       "      (bn1): BatchNorm2d(512, eps=1e-05, momentum=0.1, affine=True, track_running_stats=True)\n",
       "      (act1): ReLU(inplace=True)\n",
       "      (conv2): Conv2d(512, 512, kernel_size=(3, 3), stride=(2, 2), padding=(1, 1), bias=False)\n",
       "      (bn2): BatchNorm2d(512, eps=1e-05, momentum=0.1, affine=True, track_running_stats=True)\n",
       "      (act2): ReLU(inplace=True)\n",
       "      (conv3): Conv2d(512, 2048, kernel_size=(1, 1), stride=(1, 1), bias=False)\n",
       "      (bn3): BatchNorm2d(2048, eps=1e-05, momentum=0.1, affine=True, track_running_stats=True)\n",
       "      (act3): ReLU(inplace=True)\n",
       "      (downsample): Sequential(\n",
       "        (0): Conv2d(1024, 2048, kernel_size=(1, 1), stride=(2, 2), bias=False)\n",
       "        (1): BatchNorm2d(2048, eps=1e-05, momentum=0.1, affine=True, track_running_stats=True)\n",
       "      )\n",
       "    )\n",
       "    (1): Bottleneck(\n",
       "      (conv1): Conv2d(2048, 512, kernel_size=(1, 1), stride=(1, 1), bias=False)\n",
       "      (bn1): BatchNorm2d(512, eps=1e-05, momentum=0.1, affine=True, track_running_stats=True)\n",
       "      (act1): ReLU(inplace=True)\n",
       "      (conv2): Conv2d(512, 512, kernel_size=(3, 3), stride=(1, 1), padding=(1, 1), bias=False)\n",
       "      (bn2): BatchNorm2d(512, eps=1e-05, momentum=0.1, affine=True, track_running_stats=True)\n",
       "      (act2): ReLU(inplace=True)\n",
       "      (conv3): Conv2d(512, 2048, kernel_size=(1, 1), stride=(1, 1), bias=False)\n",
       "      (bn3): BatchNorm2d(2048, eps=1e-05, momentum=0.1, affine=True, track_running_stats=True)\n",
       "      (act3): ReLU(inplace=True)\n",
       "    )\n",
       "    (2): Bottleneck(\n",
       "      (conv1): Conv2d(2048, 512, kernel_size=(1, 1), stride=(1, 1), bias=False)\n",
       "      (bn1): BatchNorm2d(512, eps=1e-05, momentum=0.1, affine=True, track_running_stats=True)\n",
       "      (act1): ReLU(inplace=True)\n",
       "      (conv2): Conv2d(512, 512, kernel_size=(3, 3), stride=(1, 1), padding=(1, 1), bias=False)\n",
       "      (bn2): BatchNorm2d(512, eps=1e-05, momentum=0.1, affine=True, track_running_stats=True)\n",
       "      (act2): ReLU(inplace=True)\n",
       "      (conv3): Conv2d(512, 2048, kernel_size=(1, 1), stride=(1, 1), bias=False)\n",
       "      (bn3): BatchNorm2d(2048, eps=1e-05, momentum=0.1, affine=True, track_running_stats=True)\n",
       "      (act3): ReLU(inplace=True)\n",
       "    )\n",
       "  )\n",
       "  (global_pool): SelectAdaptivePool2d (pool_type=avg, flatten=Flatten(start_dim=1, end_dim=-1))\n",
       "  (fc): Linear(in_features=2048, out_features=4, bias=True)\n",
       ")"
      ]
     },
     "execution_count": 73,
     "metadata": {},
     "output_type": "execute_result"
    }
   ],
   "source": [
    "model.to(device)"
   ]
  },
  {
   "cell_type": "code",
   "execution_count": 74,
   "metadata": {},
   "outputs": [
    {
     "name": "stdout",
     "output_type": "stream",
     "text": [
      "Adjusting learning rate of group 0 to 3.0000e-04.\n",
      "{'train_loss': tensor(0.1274, device='cuda:0'), 'F1': tensor(0.6399), 'lr': 0.0003}\n"
     ]
    }
   ],
   "source": [
    "criterion = FocalLoss(cfg.fl_alpha, cfg.fl_gamma)\n",
    "metric = MyF1Score(cfg)\n",
    "val_metric=MyF1Score(cfg)\n",
    "optimizer = torch.optim.Adam(model.parameters(), lr = 3e-4)\n",
    "scheduler = torch.optim.lr_scheduler.CosineAnnealingLR(optimizer,T_max=cfg.t_max,eta_min=cfg.min_lr,verbose=True)\n",
    "model.eval()\n",
    "\n",
    "with torch.no_grad():\n",
    "    for images,label in test_loader:\n",
    "        images = images.to(device)\n",
    "        label = label.to(device)\n",
    "        model.to(device)\n",
    "        pred_ts=model(images)\n",
    "        loss = criterion(pred_ts, label)\n",
    "        score = metric(pred_ts, label)\n",
    "test_score=metric.compute()\n",
    "logs = {'train_loss': loss, 'F1': test_score, 'lr': optimizer.param_groups[0]['lr']}\n",
    "print(logs)"
   ]
  },
  {
   "attachments": {
    "image-2.png": {
     "image/png": "[encoded data removed]"
    },
    "image.png": {
     "image/png": "[encoded data removed]"
    }
   },
   "cell_type": "markdown",
   "metadata": {},
   "source": [
    "# Result \n",
    "Below, we present the results of our efforts to reproduce two key findings from the CASS paper,\n",
    "those being:  1) CASS requires less training time than existing self-supervised models like \n",
    "DINO, and 2) CASS is more robust to changes in batch size and number of pre-training epochs \n",
    "compared to DINO.  We were not able to run DINO on our machines so the results for DINO are\n",
    "all referenced from the authors’ work.\n",
    "## Batch Size Ablation Study\n",
    "To investigate the impact of batch size on the performance of CASS, we pretrained for 100 epochs and fine-tuned for 50 epochs with batch sizes of 8, 12, and 16.  Due to hardware limitations (NVIDIA V100 16GB), we were unable to test a batch size of 32.  The F1 scores for each batch size are reported in Table 1.\n",
    "\n",
    "![image.png](attachment:image.png)\n",
    "\n",
    "Table 1:  (Left) Our F1 scores for CASS with different batch sizes on the Brain MRI dataset. (Right) The authors’ F1 scores for CASS with different batch sizes on the Brain MRI dataset. \n",
    "\n",
    "\n",
    "Unfortunately, the authors did not report the scores for all of the corresponding DINO trained models, but they did report scores for a batch size of 16 and 100 epochs of pre-training.  In that setup, the DINO CNN had a 0.9900 F1 score and the DINO Transformer had a 0.8841 F1 score.\n",
    "\n",
    "These results show that the CASS CNN steadily increased with larger batch sizes which differed from the results reported by the authors.  Since the author’s F1 scores were much higher, there was as much room for improvement and they actually saw a decrease in performance with a batch size of 32.\n",
    "\n",
    "Similar to the authors, our CASS ViT exhibited worse performance than the CNN.  Interestingly, the authors reported that the ViT performed better with smaller batch sizes which was also found to be true in our experiments.\n",
    "\n",
    "Our experiments showed that there was a maximum difference in performance of 8% for the ViT and 40% for the CNN.  Overall, our results do not support our hypothesis that CASS trained models are robust to changes in batch sizes.  However, they do confirm the authors claims that the CNN performed better than the ViT, the ViT performed better with smaller batch sizes, and that the ViT was more robust than the CNN.\n",
    "\n",
    "## Pre–training Epochs Ablation Study\n",
    "To investigate the impact of pre-training epochs on CASS trained models’ performance, we pre-trained the models for 50, 100, and 200 epochs while keeping the number of fine-tuning epochs fixed at 50 and the batch size at 16.  The F1 scores for each configuration are shown in Table 2.\n",
    "\n",
    "![image-2.png](attachment:image-2.png)\n",
    "\n",
    "Table 2: (Left) Our F1 scores for CASS with different pre-training epochs on the Brain MRI dataset.  (Right) The authors’ F1 scores for CASS with different pre-training epochs on the Brain MRI dataset. \n",
    "\n",
    "Although our F1 scores are much lower than the F1 scores reported by the authors.  A few things are consistent between both of our results.  The first being that the CNN actually performed worse with 200 epochs of training than it did with 100 epochs of training.  The second being that the ViT steadily improved as the epochs increased.  And the third being that the ViT performed worse than the CNN in all configurations.  \n",
    "\n",
    "We believe our results somewhat support the hypothesis that CASS trained models are robust to changes in the number of pre-training epochs.  For the CNN, there isn’t nearly as much variation between a model trained for 50 epochs or 100 epochs as there is for a model trained using a batch size of 8 versus a batch size of 16.  Overall, there is a maximum performance difference of 25%.  For the ViT, the F1 scores are quite stable and there is a maximum performance difference of 15% which is slightly more than the performance differences found in our batch size ablation study. \n",
    "\n",
    "\n",
    "## Training Time Comparison\n",
    "\n",
    "To verify the claim that CASS is more computationally efficient than DINO, we measured the time taken to pre-train CASS on the Brain MRI dataset for 100 epochs using our NVIDIA V100 16GB GPU. We found that CASS took 5 hours and 24 minutes to complete the pre-training phase. This is faster than the 7 hours and 11 minutes reported in the original paper, almost certainly due to the difference in hardware. Our CASS implementation is substantially faster than the 26 hours and 21 minutes the authors reported for pre-training DINO on the same dataset. While we could not directly compare with DINO on our hardware due to time constraints, we can extrapolate how long it would have taken the DINO models to take.  Using the times reported by the authors, we estimated that it would have taken 19 hours and 46 minutes to train DINO models using the same configuration.  This is a nearly 365% increase in training time.\n",
    "\n",
    "## Additional Ablation Study\n",
    "To verify the claim that CASS is more robust in smaller batch sizes, we have pretrained CASS with 10% label with 100 epochs pretraining and 50 epochs fine-tuning. The f1 is 0.4784 for CNN and 0.2415 for Vit. This proves that CASS is able to perform under reduced labels. "
   ]
  },
  {
   "cell_type": "markdown",
   "metadata": {},
   "source": [
    "# Discussion\n",
    "## Draft\n",
    "We set up a local test environment to test whether our CASS implementation was capable of running successfully for a single epoch with a batch size of 16.  This was successful and a single epoch took about 30 minutes using a GPU with 22GB RAM.  After training for one epoch on the Brain MRI dataset, we achieved a Recall value of 0.3 which is only slightly better than a naive random baseline.  This was to be expected given the extremely limited training duration and only served as a sanity check that our implementation was functioning correctly.  We believe this is a strong indicator that this paper is reproducible.  \n",
    "\n",
    "Our next step is to scale up our training process and run the model for a sufficient number of epochs (50+) in order to meaningfully compare our results with those reported by the authors.  This is a potential challenge given that our GPU has less than half of the memory of the GPU used by the authors.  This will likely restrict our batch size to less than 20, which is not ideal.  To address this issue, we’re considering setting up a cloud environment with more powerful GPUs so that we can reduce the overall training time and use a larger batch size.  We will assess the feasibility and cost effectiveness of that option in the coming days and make a decision based on the available resources and time constraints.\n",
    "\n",
    "We also plan to evaluate using other relevant metrics, like F1 score.  If time permits, we may extend our study to another dataset, that being the DermoFIT dataset which is a private, paid dataset.  We have applied for access and are still waiting for a decision.\n",
    "## Final\n",
    "\n",
    "Overall, the code was fairly easy to reproduce and get running for our dataset; unfortunately, we did not produce all of the same results as in the paper despite using the exact same parameters as in the github. However, we did validate some of the author's claims such as the CNNs consistently performing better than the Transformers and Transformers performing better with smaller batch size.  We reached out to Pranav Singh, the author of the paper, and he was willing to help but didn't find any real issues with our code. His suggestion was to use F1 rather than Recall, but we had actually already tried this, and the results were quite similar. We thought that one approach might be to fine-tune multiple times and keep the best model, since fine-tuning only takes 2 hours each. We weren't able to follow this approach due to time limitations and limited free google cloud compute credits.  We're still not sure what the exact issue was unfortunately.\n",
    "\n",
    "The easy part of the project was setting up the environment and code locally.  There were a few bugs we had to fix and some small changes we needed to make because of our dataset, but it was not too difficult. At this point we had run a single epoch run as a sanity check and everything went well so we thought it would be very straightforward from there on out.  However, running all of our ablation studies locally would have taken far too long, so we decided to run them in the cloud with more powerful GPUs.  This is where our problems began.\n",
    "\n",
    "A lot of our difficulties were related to Google Cloud Compute Engine.  We tried using K80s at first, but they were too slow so we tried two K80s and that was even slower.  We decided to switch to the more expensive V100 since it was much faster, but it was difficult to find one available in any region.  We ended up making multiple different V100 VMs in different regions across the world including Europe.  This allowed us to have fairly consistent access, but it was annoying to constantly try and make/start a VM and being denied due to availability.  We didn't know it at the time, but these were the 16GB V100s.  This meant that we weren't able to use a batch size of 32 because there wasn't enough memory.  We then tried to make VMs with 40GB A100s, but were never able to acquire one despite trying multiple times per hour for days on end.  In the end, we were able to successfully set up an environment in a VM on Google and run our models for a sufficient number of epochs (up to 200) so that we could complete our ablation studies.\n",
    "\n",
    "We don't have many recommendations to the original author, since he was very willing to help and the directions to set up the code are clear. Although, there are several bugs with the author's repository that might cause issues when reproducing.  We're a bit disappointed that we weren't able to reproduce all of the results claimed by the author, but overall we both enjoyed the experience and it seems as though CASS may be a powerful training technique for image classification models, if executed perfectly. "
   ]
  },
  {
   "cell_type": "markdown",
   "metadata": {
    "id": "SHMI2chl9omn"
   },
   "source": [
    "# References\n",
    "\n",
    "1.  Singh, P. and Cirrone, J., “Efficient Representation Learning for Healthcare with Cross-Architectural Self-Supervision”, <i>arXiv e-prints</i>, 2023. \n",
    "\n"
   ]
  }
 ],
 "metadata": {
  "colab": {
   "private_outputs": true,
   "provenance": []
  },
  "kernelspec": {
   "display_name": "Python 3",
   "language": "python",
   "name": "python3"
  },
  "language_info": {
   "codemirror_mode": {
    "name": "ipython",
    "version": 3
   },
   "file_extension": ".py",
   "mimetype": "text/x-python",
   "name": "python",
   "nbconvert_exporter": "python",
   "pygments_lexer": "ipython3",
   "version": "3.10.13"
  }
 },
 "nbformat": 4,
 "nbformat_minor": 4
}
